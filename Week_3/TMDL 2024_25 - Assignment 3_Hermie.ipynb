{
 "cells": [
  {
   "cell_type": "markdown",
   "id": "43554d37",
   "metadata": {
    "id": "43554d37"
   },
   "source": [
    "# Turing Machine and Deep Learning 2023\n",
    "\n",
    "## Assignment Unupervised ML\n",
    "\n",
    "This notebook is meant for you to review and reflect on the content of Lecture 3, which was mainly about unsupervised learning problems. As with last week, this notebook should not be too much quantitative work (lines of code) but keep in mind that running this notebook may take a longer time than you may be used to for python programs (*training good models take time!*)\n",
    "\n",
    "### Handing in your Assignment\n",
    "\n",
    "Git is an invaluable resource to researchers and developers, and thus for this course, all course material will be (additionally) shared on GitHub. Though there is a tiny bit of a learning curve, this is worth the effort. To hand in your assignment (applicable to all weeks):\n",
    "\n",
    "1. Create a folder called \"Week 2\" and copy this notebook and any other files or data that may be needed.\n",
    "2. Finish the notebook and commit and push regularly. Your final commit before the deadline will be graded.\n",
    "\n",
    "\n",
    "### Grading\n",
    "\n",
    "Each one of the (sub-)questions below will be graded either 0 (insufficient), 1 (sufficient) or 2 (good). If $N$ is the number of sub-questions, and $p_i$ is your score for sub-question $i$, your total grade $G$ for this assignment is:\n",
    "$$G=\\frac{1}{2 N}\\sum_{i=0}^{N}p_i$$"
   ]
  },
  {
   "cell_type": "code",
   "execution_count": 1,
   "id": "52fbab8b",
   "metadata": {
    "id": "52fbab8b"
   },
   "outputs": [],
   "source": [
    "# load common libraries\n",
    "import numpy as np                 # maths\n",
    "import matplotlib.pyplot as plt    # plotting\n",
    "import pandas as pd                # data manipulation\n",
    "from tqdm import tqdm              # loading bar\n",
    "from time import perf_counter      # timer"
   ]
  },
  {
   "cell_type": "markdown",
   "id": "bf4c3a0a",
   "metadata": {
    "id": "bf4c3a0a"
   },
   "source": [
    "# Q1 Loading and preprocessing data\n",
    "\n",
    "In this repository, you should find a file called `tmdb_5000_movies.csv` which is information from a subset of movies on The Movie Database."
   ]
  },
  {
   "cell_type": "markdown",
   "id": "40715541",
   "metadata": {
    "id": "40715541"
   },
   "source": [
    "### Q.1.1\n",
    "Use pandas to read in the csv file (refer to [read_csv](https://pandas.pydata.org/docs/reference/api/pandas.read_csv.html) if you're unfamiliar)."
   ]
  },
  {
   "cell_type": "code",
   "execution_count": 2,
   "id": "c10a5202",
   "metadata": {
    "id": "c10a5202"
   },
   "outputs": [
    {
     "data": {
      "text/html": [
       "<div>\n",
       "<style scoped>\n",
       "    .dataframe tbody tr th:only-of-type {\n",
       "        vertical-align: middle;\n",
       "    }\n",
       "\n",
       "    .dataframe tbody tr th {\n",
       "        vertical-align: top;\n",
       "    }\n",
       "\n",
       "    .dataframe thead th {\n",
       "        text-align: right;\n",
       "    }\n",
       "</style>\n",
       "<table border=\"1\" class=\"dataframe\">\n",
       "  <thead>\n",
       "    <tr style=\"text-align: right;\">\n",
       "      <th></th>\n",
       "      <th>budget</th>\n",
       "      <th>genres</th>\n",
       "      <th>homepage</th>\n",
       "      <th>id</th>\n",
       "      <th>keywords</th>\n",
       "      <th>original_language</th>\n",
       "      <th>original_title</th>\n",
       "      <th>overview</th>\n",
       "      <th>popularity</th>\n",
       "      <th>production_companies</th>\n",
       "      <th>production_countries</th>\n",
       "      <th>release_date</th>\n",
       "      <th>revenue</th>\n",
       "      <th>runtime</th>\n",
       "      <th>spoken_languages</th>\n",
       "      <th>status</th>\n",
       "      <th>tagline</th>\n",
       "      <th>title</th>\n",
       "      <th>vote_average</th>\n",
       "      <th>vote_count</th>\n",
       "    </tr>\n",
       "  </thead>\n",
       "  <tbody>\n",
       "    <tr>\n",
       "      <th>0</th>\n",
       "      <td>237000000</td>\n",
       "      <td>[{\"id\": 28, \"name\": \"Action\"}, {\"id\": 12, \"nam...</td>\n",
       "      <td>http://www.avatarmovie.com/</td>\n",
       "      <td>19995</td>\n",
       "      <td>[{\"id\": 1463, \"name\": \"culture clash\"}, {\"id\":...</td>\n",
       "      <td>en</td>\n",
       "      <td>Avatar</td>\n",
       "      <td>In the 22nd century, a paraplegic Marine is di...</td>\n",
       "      <td>150.437577</td>\n",
       "      <td>[{\"name\": \"Ingenious Film Partners\", \"id\": 289...</td>\n",
       "      <td>[{\"iso_3166_1\": \"US\", \"name\": \"United States o...</td>\n",
       "      <td>2009-12-10</td>\n",
       "      <td>2787965087</td>\n",
       "      <td>162.0</td>\n",
       "      <td>[{\"iso_639_1\": \"en\", \"name\": \"English\"}, {\"iso...</td>\n",
       "      <td>Released</td>\n",
       "      <td>Enter the World of Pandora.</td>\n",
       "      <td>Avatar</td>\n",
       "      <td>7.2</td>\n",
       "      <td>11800</td>\n",
       "    </tr>\n",
       "    <tr>\n",
       "      <th>1</th>\n",
       "      <td>300000000</td>\n",
       "      <td>[{\"id\": 12, \"name\": \"Adventure\"}, {\"id\": 14, \"...</td>\n",
       "      <td>http://disney.go.com/disneypictures/pirates/</td>\n",
       "      <td>285</td>\n",
       "      <td>[{\"id\": 270, \"name\": \"ocean\"}, {\"id\": 726, \"na...</td>\n",
       "      <td>en</td>\n",
       "      <td>Pirates of the Caribbean: At World's End</td>\n",
       "      <td>Captain Barbossa, long believed to be dead, ha...</td>\n",
       "      <td>139.082615</td>\n",
       "      <td>[{\"name\": \"Walt Disney Pictures\", \"id\": 2}, {\"...</td>\n",
       "      <td>[{\"iso_3166_1\": \"US\", \"name\": \"United States o...</td>\n",
       "      <td>2007-05-19</td>\n",
       "      <td>961000000</td>\n",
       "      <td>169.0</td>\n",
       "      <td>[{\"iso_639_1\": \"en\", \"name\": \"English\"}]</td>\n",
       "      <td>Released</td>\n",
       "      <td>At the end of the world, the adventure begins.</td>\n",
       "      <td>Pirates of the Caribbean: At World's End</td>\n",
       "      <td>6.9</td>\n",
       "      <td>4500</td>\n",
       "    </tr>\n",
       "    <tr>\n",
       "      <th>2</th>\n",
       "      <td>245000000</td>\n",
       "      <td>[{\"id\": 28, \"name\": \"Action\"}, {\"id\": 12, \"nam...</td>\n",
       "      <td>http://www.sonypictures.com/movies/spectre/</td>\n",
       "      <td>206647</td>\n",
       "      <td>[{\"id\": 470, \"name\": \"spy\"}, {\"id\": 818, \"name...</td>\n",
       "      <td>en</td>\n",
       "      <td>Spectre</td>\n",
       "      <td>A cryptic message from Bond’s past sends him o...</td>\n",
       "      <td>107.376788</td>\n",
       "      <td>[{\"name\": \"Columbia Pictures\", \"id\": 5}, {\"nam...</td>\n",
       "      <td>[{\"iso_3166_1\": \"GB\", \"name\": \"United Kingdom\"...</td>\n",
       "      <td>2015-10-26</td>\n",
       "      <td>880674609</td>\n",
       "      <td>148.0</td>\n",
       "      <td>[{\"iso_639_1\": \"fr\", \"name\": \"Fran\\u00e7ais\"},...</td>\n",
       "      <td>Released</td>\n",
       "      <td>A Plan No One Escapes</td>\n",
       "      <td>Spectre</td>\n",
       "      <td>6.3</td>\n",
       "      <td>4466</td>\n",
       "    </tr>\n",
       "    <tr>\n",
       "      <th>3</th>\n",
       "      <td>250000000</td>\n",
       "      <td>[{\"id\": 28, \"name\": \"Action\"}, {\"id\": 80, \"nam...</td>\n",
       "      <td>http://www.thedarkknightrises.com/</td>\n",
       "      <td>49026</td>\n",
       "      <td>[{\"id\": 849, \"name\": \"dc comics\"}, {\"id\": 853,...</td>\n",
       "      <td>en</td>\n",
       "      <td>The Dark Knight Rises</td>\n",
       "      <td>Following the death of District Attorney Harve...</td>\n",
       "      <td>112.312950</td>\n",
       "      <td>[{\"name\": \"Legendary Pictures\", \"id\": 923}, {\"...</td>\n",
       "      <td>[{\"iso_3166_1\": \"US\", \"name\": \"United States o...</td>\n",
       "      <td>2012-07-16</td>\n",
       "      <td>1084939099</td>\n",
       "      <td>165.0</td>\n",
       "      <td>[{\"iso_639_1\": \"en\", \"name\": \"English\"}]</td>\n",
       "      <td>Released</td>\n",
       "      <td>The Legend Ends</td>\n",
       "      <td>The Dark Knight Rises</td>\n",
       "      <td>7.6</td>\n",
       "      <td>9106</td>\n",
       "    </tr>\n",
       "    <tr>\n",
       "      <th>4</th>\n",
       "      <td>260000000</td>\n",
       "      <td>[{\"id\": 28, \"name\": \"Action\"}, {\"id\": 12, \"nam...</td>\n",
       "      <td>http://movies.disney.com/john-carter</td>\n",
       "      <td>49529</td>\n",
       "      <td>[{\"id\": 818, \"name\": \"based on novel\"}, {\"id\":...</td>\n",
       "      <td>en</td>\n",
       "      <td>John Carter</td>\n",
       "      <td>John Carter is a war-weary, former military ca...</td>\n",
       "      <td>43.926995</td>\n",
       "      <td>[{\"name\": \"Walt Disney Pictures\", \"id\": 2}]</td>\n",
       "      <td>[{\"iso_3166_1\": \"US\", \"name\": \"United States o...</td>\n",
       "      <td>2012-03-07</td>\n",
       "      <td>284139100</td>\n",
       "      <td>132.0</td>\n",
       "      <td>[{\"iso_639_1\": \"en\", \"name\": \"English\"}]</td>\n",
       "      <td>Released</td>\n",
       "      <td>Lost in our world, found in another.</td>\n",
       "      <td>John Carter</td>\n",
       "      <td>6.1</td>\n",
       "      <td>2124</td>\n",
       "    </tr>\n",
       "  </tbody>\n",
       "</table>\n",
       "</div>"
      ],
      "text/plain": [
       "      budget                                             genres  \\\n",
       "0  237000000  [{\"id\": 28, \"name\": \"Action\"}, {\"id\": 12, \"nam...   \n",
       "1  300000000  [{\"id\": 12, \"name\": \"Adventure\"}, {\"id\": 14, \"...   \n",
       "2  245000000  [{\"id\": 28, \"name\": \"Action\"}, {\"id\": 12, \"nam...   \n",
       "3  250000000  [{\"id\": 28, \"name\": \"Action\"}, {\"id\": 80, \"nam...   \n",
       "4  260000000  [{\"id\": 28, \"name\": \"Action\"}, {\"id\": 12, \"nam...   \n",
       "\n",
       "                                       homepage      id  \\\n",
       "0                   http://www.avatarmovie.com/   19995   \n",
       "1  http://disney.go.com/disneypictures/pirates/     285   \n",
       "2   http://www.sonypictures.com/movies/spectre/  206647   \n",
       "3            http://www.thedarkknightrises.com/   49026   \n",
       "4          http://movies.disney.com/john-carter   49529   \n",
       "\n",
       "                                            keywords original_language  \\\n",
       "0  [{\"id\": 1463, \"name\": \"culture clash\"}, {\"id\":...                en   \n",
       "1  [{\"id\": 270, \"name\": \"ocean\"}, {\"id\": 726, \"na...                en   \n",
       "2  [{\"id\": 470, \"name\": \"spy\"}, {\"id\": 818, \"name...                en   \n",
       "3  [{\"id\": 849, \"name\": \"dc comics\"}, {\"id\": 853,...                en   \n",
       "4  [{\"id\": 818, \"name\": \"based on novel\"}, {\"id\":...                en   \n",
       "\n",
       "                             original_title  \\\n",
       "0                                    Avatar   \n",
       "1  Pirates of the Caribbean: At World's End   \n",
       "2                                   Spectre   \n",
       "3                     The Dark Knight Rises   \n",
       "4                               John Carter   \n",
       "\n",
       "                                            overview  popularity  \\\n",
       "0  In the 22nd century, a paraplegic Marine is di...  150.437577   \n",
       "1  Captain Barbossa, long believed to be dead, ha...  139.082615   \n",
       "2  A cryptic message from Bond’s past sends him o...  107.376788   \n",
       "3  Following the death of District Attorney Harve...  112.312950   \n",
       "4  John Carter is a war-weary, former military ca...   43.926995   \n",
       "\n",
       "                                production_companies  \\\n",
       "0  [{\"name\": \"Ingenious Film Partners\", \"id\": 289...   \n",
       "1  [{\"name\": \"Walt Disney Pictures\", \"id\": 2}, {\"...   \n",
       "2  [{\"name\": \"Columbia Pictures\", \"id\": 5}, {\"nam...   \n",
       "3  [{\"name\": \"Legendary Pictures\", \"id\": 923}, {\"...   \n",
       "4        [{\"name\": \"Walt Disney Pictures\", \"id\": 2}]   \n",
       "\n",
       "                                production_countries release_date     revenue  \\\n",
       "0  [{\"iso_3166_1\": \"US\", \"name\": \"United States o...   2009-12-10  2787965087   \n",
       "1  [{\"iso_3166_1\": \"US\", \"name\": \"United States o...   2007-05-19   961000000   \n",
       "2  [{\"iso_3166_1\": \"GB\", \"name\": \"United Kingdom\"...   2015-10-26   880674609   \n",
       "3  [{\"iso_3166_1\": \"US\", \"name\": \"United States o...   2012-07-16  1084939099   \n",
       "4  [{\"iso_3166_1\": \"US\", \"name\": \"United States o...   2012-03-07   284139100   \n",
       "\n",
       "   runtime                                   spoken_languages    status  \\\n",
       "0    162.0  [{\"iso_639_1\": \"en\", \"name\": \"English\"}, {\"iso...  Released   \n",
       "1    169.0           [{\"iso_639_1\": \"en\", \"name\": \"English\"}]  Released   \n",
       "2    148.0  [{\"iso_639_1\": \"fr\", \"name\": \"Fran\\u00e7ais\"},...  Released   \n",
       "3    165.0           [{\"iso_639_1\": \"en\", \"name\": \"English\"}]  Released   \n",
       "4    132.0           [{\"iso_639_1\": \"en\", \"name\": \"English\"}]  Released   \n",
       "\n",
       "                                          tagline  \\\n",
       "0                     Enter the World of Pandora.   \n",
       "1  At the end of the world, the adventure begins.   \n",
       "2                           A Plan No One Escapes   \n",
       "3                                 The Legend Ends   \n",
       "4            Lost in our world, found in another.   \n",
       "\n",
       "                                      title  vote_average  vote_count  \n",
       "0                                    Avatar           7.2       11800  \n",
       "1  Pirates of the Caribbean: At World's End           6.9        4500  \n",
       "2                                   Spectre           6.3        4466  \n",
       "3                     The Dark Knight Rises           7.6        9106  \n",
       "4                               John Carter           6.1        2124  "
      ]
     },
     "execution_count": 2,
     "metadata": {},
     "output_type": "execute_result"
    }
   ],
   "source": [
    "df = pd.read_csv(\"/Users/Hermie/Desktop/Turing Machine & Deep Learning/tmdb_5000_movies.csv\")\n",
    "df.head()"
   ]
  },
  {
   "cell_type": "markdown",
   "id": "1915f1f7",
   "metadata": {
    "id": "1915f1f7"
   },
   "source": [
    "View information about the dataset including datatypes and null values"
   ]
  },
  {
   "cell_type": "code",
   "execution_count": 3,
   "id": "c173d066",
   "metadata": {
    "id": "c173d066"
   },
   "outputs": [
    {
     "name": "stdout",
     "output_type": "stream",
     "text": [
      "<class 'pandas.core.frame.DataFrame'>\n",
      "RangeIndex: 4803 entries, 0 to 4802\n",
      "Data columns (total 20 columns):\n",
      " #   Column                Non-Null Count  Dtype  \n",
      "---  ------                --------------  -----  \n",
      " 0   budget                4803 non-null   int64  \n",
      " 1   genres                4803 non-null   object \n",
      " 2   homepage              1712 non-null   object \n",
      " 3   id                    4803 non-null   int64  \n",
      " 4   keywords              4803 non-null   object \n",
      " 5   original_language     4803 non-null   object \n",
      " 6   original_title        4803 non-null   object \n",
      " 7   overview              4800 non-null   object \n",
      " 8   popularity            4803 non-null   float64\n",
      " 9   production_companies  4803 non-null   object \n",
      " 10  production_countries  4803 non-null   object \n",
      " 11  release_date          4802 non-null   object \n",
      " 12  revenue               4803 non-null   int64  \n",
      " 13  runtime               4801 non-null   float64\n",
      " 14  spoken_languages      4803 non-null   object \n",
      " 15  status                4803 non-null   object \n",
      " 16  tagline               3959 non-null   object \n",
      " 17  title                 4803 non-null   object \n",
      " 18  vote_average          4803 non-null   float64\n",
      " 19  vote_count            4803 non-null   int64  \n",
      "dtypes: float64(3), int64(4), object(13)\n",
      "memory usage: 750.6+ KB\n"
     ]
    }
   ],
   "source": [
    "df.info()"
   ]
  },
  {
   "cell_type": "markdown",
   "id": "4e64a24f",
   "metadata": {
    "id": "4e64a24f"
   },
   "source": [
    "**Q.1.1.2** What columns have null values above? How would you be able to estimate the missing values?"
   ]
  },
  {
   "cell_type": "markdown",
   "id": "2660fe51",
   "metadata": {
    "id": "2660fe51"
   },
   "source": [
    "The columns with null values are homepage, overview, release_date, runtime, and tagline. For missing numeric values like in runtime, we can impute using the mean or median. For textual columns such as homepage, overview, and tagline, we can fill in a placeholder like \"Not Available\" or use the mode, while for release_date we could use 1900-01-01."
   ]
  },
  {
   "cell_type": "markdown",
   "id": "83863820",
   "metadata": {
    "id": "83863820"
   },
   "source": [
    "### Q1.2\n",
    "For this notebook, we're only interested in a few columns, specifically title, overview and genres. Set df to only contain those columns."
   ]
  },
  {
   "cell_type": "code",
   "execution_count": 4,
   "id": "4e3f0439",
   "metadata": {
    "id": "4e3f0439"
   },
   "outputs": [
    {
     "name": "stdout",
     "output_type": "stream",
     "text": [
      "<class 'pandas.core.frame.DataFrame'>\n",
      "RangeIndex: 4803 entries, 0 to 4802\n",
      "Data columns (total 3 columns):\n",
      " #   Column    Non-Null Count  Dtype \n",
      "---  ------    --------------  ----- \n",
      " 0   title     4803 non-null   object\n",
      " 1   overview  4800 non-null   object\n",
      " 2   genres    4803 non-null   object\n",
      "dtypes: object(3)\n",
      "memory usage: 112.7+ KB\n"
     ]
    }
   ],
   "source": [
    "df = df[['title', 'overview', 'genres']]\n",
    "df.info() # print out df info to verify"
   ]
  },
  {
   "cell_type": "markdown",
   "id": "b596e86b",
   "metadata": {
    "id": "b596e86b"
   },
   "source": [
    "### Q1.3\n",
    "We see that some movies do not have an overview. Drop them from the table and reset the index (set `drop=True`)."
   ]
  },
  {
   "cell_type": "code",
   "execution_count": 5,
   "id": "a06e4f6a",
   "metadata": {
    "id": "a06e4f6a"
   },
   "outputs": [],
   "source": [
    "df = df.dropna(subset=['overview']) # drop na values\n",
    "df = df.reset_index(drop=True) # reset index"
   ]
  },
  {
   "cell_type": "markdown",
   "id": "759df3a2",
   "metadata": {
    "id": "759df3a2"
   },
   "source": [
    "# Q2 One-hot encodings\n",
    "The following code processes the genres (which you see above are list of dictionaries) and encodes them into one-hot labels.\n",
    "\n",
    "Remember, since we cannot do maths on text strings, we must change these words to numbers. Here, we create one-hot encodings for the genres. Assume we have three genres $[G_1, G_2, G_3]$. If a movie $M_1$ is tagged with genre $G_1$, the encoding is $[1,0,0]$. If another movie $M_2$ is tagged with $G2$, the encoding becomes $[0,1,0]$. Other encodings are possible as well, but one-hot encoding quite common and useful for many other tasks. In this case, if a movie is tagged with more than one genre, we'll just take a random one and encode that into a one-hot label.\n",
    "\n",
    "### Q2.1 Processing genres\n",
    "\n",
    "Finish the following code that processes genres into one-hot encodings."
   ]
  },
  {
   "cell_type": "code",
   "execution_count": 6,
   "id": "dba05feb",
   "metadata": {
    "id": "dba05feb"
   },
   "outputs": [
    {
     "name": "stderr",
     "output_type": "stream",
     "text": [
      "100%|██████████| 4800/4800 [00:00<00:00, 46676.74it/s]\n"
     ]
    }
   ],
   "source": [
    "np.random.seed(0)\n",
    "\n",
    "def process_genre_string(gs):\n",
    "    \"\"\" Processes genres into a single item from a list\"\"\"\n",
    "    gs = eval(gs)\n",
    "    gs = [x['name'] for x in gs]\n",
    "    genre = \"Unknown\"\n",
    "    if gs:\n",
    "        genre = np.random.choice(gs) # choose random entry\n",
    "    return genre\n",
    "\n",
    "# TODO: Fill in\n",
    "def encode_labels(label, unique_labels):\n",
    "    \"\"\" Encodes text labels into a one-hot encoded list\n",
    "        with possibly more than one one-hot per list.\n",
    "        :param label: the label you want to one-hot encode\n",
    "        :unique_labels: the vocabulary\n",
    "    \"\"\"\n",
    "    out = np.zeros(len(unique_labels))\n",
    "    out[unique_labels.index(label)] = 1\n",
    "    return out\n",
    "\n",
    "# save genres\n",
    "processed_genres = []\n",
    "for index, row in df.iterrows():\n",
    "    processed_genres.append(process_genre_string(row[\"genres\"]))\n",
    "\n",
    "# sort and remove duplicates to get vocabulary\n",
    "unique_genres = sorted(list(set(processed_genres)))\n",
    "\n",
    "# add to dataframe as new column\n",
    "df[\"proc_genres\"] = processed_genres\n",
    "\n",
    "# one-hot encode genres\n",
    "enocded_labels = []\n",
    "for index, row in tqdm(df.iterrows(), total=len(df)):\n",
    "    enocded_labels.append(encode_labels(row[\"proc_genres\"], unique_genres))\n",
    "\n",
    "df[\"one_hot_genres\"] = enocded_labels"
   ]
  },
  {
   "cell_type": "markdown",
   "id": "d17501a9",
   "metadata": {
    "id": "d17501a9"
   },
   "source": [
    "Verify that one-hot encodings are indeed as expected"
   ]
  },
  {
   "cell_type": "code",
   "execution_count": 7,
   "id": "3b64854b",
   "metadata": {
    "id": "3b64854b"
   },
   "outputs": [
    {
     "data": {
      "text/plain": [
       "array([1., 0., 0., 0., 0., 0., 0., 0., 0., 0., 0., 0., 0., 0., 0., 0., 0.,\n",
       "       0., 0., 0., 0.])"
      ]
     },
     "execution_count": 7,
     "metadata": {},
     "output_type": "execute_result"
    }
   ],
   "source": [
    "df[\"one_hot_genres\"][0]"
   ]
  },
  {
   "cell_type": "markdown",
   "id": "b0a83ece",
   "metadata": {
    "id": "b0a83ece"
   },
   "source": [
    "### Q2.2 Processing Overviews\n",
    "Next, we process the overviews. First, we remove all punctuation for the sake of simplicity and change each overview to use only lowercase. Then we need to see how long the overviews are in terms of numbers of words. We can do this with a histogram.\n",
    "\n",
    "**Q2.2.1** Finish the following code"
   ]
  },
  {
   "cell_type": "code",
   "execution_count": 8,
   "id": "bfd51c53",
   "metadata": {
    "id": "bfd51c53"
   },
   "outputs": [
    {
     "data": {
      "image/png": "[encoded data removed]",
      "text/plain": [
       "<Figure size 640x480 with 1 Axes>"
      ]
     },
     "metadata": {},
     "output_type": "display_data"
    }
   ],
   "source": [
    "import re\n",
    "def remove_punctuation(text):\n",
    "    \"\"\" Only retains letters, numbers, underscores and whitespace \"\"\"\n",
    "    pattern = r'[^\\w\\s]'\n",
    "    return re.sub(pattern, '', text)\n",
    "\n",
    "processed_overviews = []\n",
    "\n",
    "# loop over df, remove punctuation, make words lowercase and add it to a new column\n",
    "for index, row in df.iterrows():\n",
    "    cleaned_text = remove_punctuation(row[\"overview\"])\n",
    "    cleaned_text = cleaned_text.lower()\n",
    "    processed_overviews.append(cleaned_text)\n",
    "\n",
    "df[\"proc_overview\"] = processed_overviews\n",
    "\n",
    "# get the word lengths of each overview and store it in a list\n",
    "overview_lens = []\n",
    "for text in processed_overviews:\n",
    "    words = text.split()\n",
    "    overview_lens.append(len(words))\n",
    "\n",
    "# for the sake of simplicity, add these values as a column to the df\n",
    "plt.hist(overview_lens, bins=20)\n",
    "plt.title(\"Distribution of Overview Lengths (in words)\")\n",
    "plt.xlabel(\"Number of Words\")\n",
    "plt.ylabel(\"Frequency\")\n",
    "plt.show()"
   ]
  },
  {
   "cell_type": "markdown",
   "id": "58138594",
   "metadata": {
    "id": "58138594"
   },
   "source": [
    "**Q2.2.2** What is the shortest overview? What is the longest? In the next step, we need to decide on a standard length of all overviews -- this means dropping overviews less than some value, and truncating longer ones. What length would you choose to minimize the number of movies dropped and maximize the information (words) stored in the overviews?"
   ]
  },
  {
   "cell_type": "markdown",
   "id": "3b87f1af",
   "metadata": {
    "id": "3b87f1af"
   },
   "source": [
    "The shortest overview is about 0 words (some are empty), and the longest is around 170 words.\n",
    "\n",
    "To minimize movie loss while retaining enough information, a fixed length of about 50 words is a good compromise."
   ]
  },
  {
   "cell_type": "markdown",
   "id": "54e6cb90",
   "metadata": {
    "id": "54e6cb90"
   },
   "source": [
    "### Q2.2.3\n",
    "Let's choose overviews of length 15 words. What this means is we need to discard movies that have overviews less than 15 (there are other ways of dealing with it, but this should be fine for now) and truncate the higher ones to the first 15 words."
   ]
  },
  {
   "cell_type": "code",
   "execution_count": 12,
   "id": "70854211",
   "metadata": {
    "id": "70854211"
   },
   "outputs": [
    {
     "name": "stdout",
     "output_type": "stream",
     "text": [
      "                                         title  \\\n",
      "0                                       Avatar   \n",
      "1     Pirates of the Caribbean: At World's End   \n",
      "2                                      Spectre   \n",
      "3                        The Dark Knight Rises   \n",
      "4                                  John Carter   \n",
      "...                                        ...   \n",
      "4794                                    Cavite   \n",
      "4795                               El Mariachi   \n",
      "4797                 Signed, Sealed, Delivered   \n",
      "4798                          Shanghai Calling   \n",
      "4799                         My Date with Drew   \n",
      "\n",
      "                                               overview  \\\n",
      "0     In the 22nd century, a paraplegic Marine is di...   \n",
      "1     Captain Barbossa, long believed to be dead, ha...   \n",
      "2     A cryptic message from Bond’s past sends him o...   \n",
      "3     Following the death of District Attorney Harve...   \n",
      "4     John Carter is a war-weary, former military ca...   \n",
      "...                                                 ...   \n",
      "4794  Adam, a security guard, travels from Californi...   \n",
      "4795  El Mariachi just wants to play his guitar and ...   \n",
      "4797  \"Signed, Sealed, Delivered\" introduces a dedic...   \n",
      "4798  When ambitious New York attorney Sam is sent t...   \n",
      "4799  Ever since the second grade when he first saw ...   \n",
      "\n",
      "                                                 genres  proc_genres  \\\n",
      "0     [{\"id\": 28, \"name\": \"Action\"}, {\"id\": 12, \"nam...       Action   \n",
      "1     [{\"id\": 12, \"name\": \"Adventure\"}, {\"id\": 14, \"...      Fantasy   \n",
      "2     [{\"id\": 28, \"name\": \"Action\"}, {\"id\": 12, \"nam...       Action   \n",
      "3     [{\"id\": 28, \"name\": \"Action\"}, {\"id\": 80, \"nam...     Thriller   \n",
      "4     [{\"id\": 28, \"name\": \"Action\"}, {\"id\": 12, \"nam...    Adventure   \n",
      "...                                                 ...          ...   \n",
      "4794  [{\"id\": 10769, \"name\": \"Foreign\"}, {\"id\": 53, ...     Thriller   \n",
      "4795  [{\"id\": 28, \"name\": \"Action\"}, {\"id\": 80, \"nam...        Crime   \n",
      "4797  [{\"id\": 35, \"name\": \"Comedy\"}, {\"id\": 18, \"nam...     TV Movie   \n",
      "4798                                                 []      Unknown   \n",
      "4799                [{\"id\": 99, \"name\": \"Documentary\"}]  Documentary   \n",
      "\n",
      "                                         one_hot_genres  \\\n",
      "0     [1.0, 0.0, 0.0, 0.0, 0.0, 0.0, 0.0, 0.0, 0.0, ...   \n",
      "1     [0.0, 0.0, 0.0, 0.0, 0.0, 0.0, 0.0, 0.0, 1.0, ...   \n",
      "2     [1.0, 0.0, 0.0, 0.0, 0.0, 0.0, 0.0, 0.0, 0.0, ...   \n",
      "3     [0.0, 0.0, 0.0, 0.0, 0.0, 0.0, 0.0, 0.0, 0.0, ...   \n",
      "4     [0.0, 1.0, 0.0, 0.0, 0.0, 0.0, 0.0, 0.0, 0.0, ...   \n",
      "...                                                 ...   \n",
      "4794  [0.0, 0.0, 0.0, 0.0, 0.0, 0.0, 0.0, 0.0, 0.0, ...   \n",
      "4795  [0.0, 0.0, 0.0, 0.0, 1.0, 0.0, 0.0, 0.0, 0.0, ...   \n",
      "4797  [0.0, 0.0, 0.0, 0.0, 0.0, 0.0, 0.0, 0.0, 0.0, ...   \n",
      "4798  [0.0, 0.0, 0.0, 0.0, 0.0, 0.0, 0.0, 0.0, 0.0, ...   \n",
      "4799  [0.0, 0.0, 0.0, 0.0, 0.0, 1.0, 0.0, 0.0, 0.0, ...   \n",
      "\n",
      "                                          proc_overview  \n",
      "0     [in, the, 22nd, century, a, paraplegic, marine...  \n",
      "1     [captain, barbossa, long, believed, to, be, de...  \n",
      "2     [a, cryptic, message, from, bonds, past, sends...  \n",
      "3     [following, the, death, of, district, attorney...  \n",
      "4     [john, carter, is, a, warweary, former, milita...  \n",
      "...                                                 ...  \n",
      "4794  [adam, a, security, guard, travels, from, cali...  \n",
      "4795  [el, mariachi, just, wants, to, play, his, gui...  \n",
      "4797  [signed, sealed, delivered, introduces, a, ded...  \n",
      "4798  [when, ambitious, new, york, attorney, sam, is...  \n",
      "4799  [ever, since, the, second, grade, when, he, fi...  \n",
      "\n",
      "[4707 rows x 6 columns]\n"
     ]
    },
    {
     "name": "stderr",
     "output_type": "stream",
     "text": [
      "/var/folders/k3/0zd3xff9283_dr0xzvydz7h80000gn/T/ipykernel_11101/3820599864.py:7: SettingWithCopyWarning: \n",
      "A value is trying to be set on a copy of a slice from a DataFrame.\n",
      "Try using .loc[row_indexer,col_indexer] = value instead\n",
      "\n",
      "See the caveats in the documentation: https://pandas.pydata.org/pandas-docs/stable/user_guide/indexing.html#returning-a-view-versus-a-copy\n",
      "  df[\"proc_overview\"] = df[\"proc_overview\"].apply(lambda x: x.split()[:token_len])\n"
     ]
    }
   ],
   "source": [
    "token_len = 15 # number of words\n",
    "# only select rows where overview len is more than or equal to token_len\n",
    "df = df[df[\"proc_overview\"].apply(lambda x: len(x.split())) >= token_len]\n",
    "\n",
    "# split each proc_overview into a list of words, select the first token_len words,\n",
    "# and add the list of words back into df[\"proc_overview\"]\n",
    "df[\"proc_overview\"] = df[\"proc_overview\"].apply(lambda x: x.split()[:token_len])\n",
    "\n",
    "# print to verify\n",
    "print(df)"
   ]
  },
  {
   "cell_type": "markdown",
   "id": "26e092dd",
   "metadata": {
    "id": "26e092dd"
   },
   "source": [
    "### Q2.2.3 Finding the vocabulary length\n",
    "\n",
    "In order to one-hot encode words, we need to find how many words there are in total, just like in the case of genres. Get all the words, remove duplicates, and sort. Find and print the length of your vocabulary."
   ]
  },
  {
   "cell_type": "code",
   "execution_count": 13,
   "id": "a71a750b",
   "metadata": {
    "id": "a71a750b"
   },
   "outputs": [
    {
     "name": "stdout",
     "output_type": "stream",
     "text": [
      "12493\n"
     ]
    }
   ],
   "source": [
    "# hint: store all words for all movies in a set, change it to a list and sort\n",
    "all_words = set()\n",
    "for overview in df[\"proc_overview\"]:\n",
    "    for word in overview:\n",
    "        all_words.add(word)\n",
    "\n",
    "# Convert the set to a sorted list and compute the vocabulary length\n",
    "vocab = sorted(list(all_words))\n",
    "vocab_len = len(vocab)\n",
    "print(vocab_len)"
   ]
  },
  {
   "cell_type": "markdown",
   "id": "f276b825",
   "metadata": {
    "id": "f276b825"
   },
   "source": [
    "### Q2.2.4 Encoding the labels\n",
    "\n",
    "In the case of genres, we one-hot encoded the outputs by taking a single random genre. However, an alternative method is to add up the one-hot encodings to form some kind of histogram. For example, if we have an overview \"a brown dog\", and our vocab is \\[a brown, big, cabbage, dog, goat, cow, turkey\\], the one-hot vector would be \\[1,1,0,0,1,0,0,0\\]. If our overview is \"a big brown dog\", the one-hot vector would be \\[1,1,1,0,1,0,0,0\\]. If our overview is \"a big big brown dog\", the one-hot vector would be \\[1,1,2,0,1,0,0,0\\]. You can use the `encode_labels` function that you defined earlier."
   ]
  },
  {
   "cell_type": "code",
   "execution_count": 14,
   "id": "d212192f",
   "metadata": {
    "id": "d212192f"
   },
   "outputs": [
    {
     "name": "stderr",
     "output_type": "stream",
     "text": [
      "100%|██████████| 4707/4707 [00:04<00:00, 1060.24it/s]\n",
      "/var/folders/k3/0zd3xff9283_dr0xzvydz7h80000gn/T/ipykernel_11101/2627491038.py:11: SettingWithCopyWarning: \n",
      "A value is trying to be set on a copy of a slice from a DataFrame.\n",
      "Try using .loc[row_indexer,col_indexer] = value instead\n",
      "\n",
      "See the caveats in the documentation: https://pandas.pydata.org/pandas-docs/stable/user_guide/indexing.html#returning-a-view-versus-a-copy\n",
      "  df[\"one_hot_overview\"] = encoded_labels\n"
     ]
    },
    {
     "data": {
      "text/plain": [
       "0       [0.0, 0.0, 0.0, 0.0, 0.0, 0.0, 0.0, 0.0, 0.0, ...\n",
       "1       [0.0, 0.0, 0.0, 0.0, 0.0, 0.0, 0.0, 0.0, 0.0, ...\n",
       "2       [0.0, 0.0, 0.0, 0.0, 0.0, 0.0, 0.0, 0.0, 0.0, ...\n",
       "3       [0.0, 0.0, 0.0, 0.0, 0.0, 0.0, 0.0, 0.0, 0.0, ...\n",
       "4       [0.0, 0.0, 0.0, 0.0, 0.0, 0.0, 0.0, 0.0, 0.0, ...\n",
       "                              ...                        \n",
       "4794    [0.0, 0.0, 0.0, 0.0, 0.0, 0.0, 0.0, 0.0, 0.0, ...\n",
       "4795    [0.0, 0.0, 0.0, 0.0, 0.0, 0.0, 0.0, 0.0, 0.0, ...\n",
       "4797    [0.0, 0.0, 0.0, 0.0, 0.0, 0.0, 0.0, 0.0, 0.0, ...\n",
       "4798    [0.0, 0.0, 0.0, 0.0, 0.0, 0.0, 0.0, 0.0, 0.0, ...\n",
       "4799    [0.0, 0.0, 0.0, 0.0, 0.0, 0.0, 0.0, 0.0, 0.0, ...\n",
       "Name: one_hot_overview, Length: 4707, dtype: object"
      ]
     },
     "execution_count": 14,
     "metadata": {},
     "output_type": "execute_result"
    }
   ],
   "source": [
    "# this code is just a hint, if you want you can do it as you please\n",
    "# as long as the output remains the same\n",
    "encoded_labels = []\n",
    "for index, row in tqdm(df.iterrows(), total=len(df)):\n",
    "    sentence_encode = [] # set of encodings for this overview\n",
    "    for word in row[\"proc_overview\"]:\n",
    "        sentence_encode.append(encode_labels(word, vocab)) # get encoding for this word\n",
    "    sentence_encode = np.sum(np.array(sentence_encode), axis=0) # sum over axis=1\n",
    "    encoded_labels.append(sentence_encode)\n",
    "\n",
    "df[\"one_hot_overview\"] = encoded_labels\n",
    "df['one_hot_overview'] # print to verify"
   ]
  },
  {
   "cell_type": "markdown",
   "id": "7c62e127",
   "metadata": {
    "id": "7c62e127"
   },
   "source": [
    "**Q2.2.5** Each vector is a vector of floating point (64-bit) numbers. Assuming each float takes up exactly 16-bytes, how many bytes does this take to store (theoretically)?"
   ]
  },
  {
   "cell_type": "markdown",
   "id": "193b8235",
   "metadata": {
    "id": "193b8235"
   },
   "source": [
    "Each overview is encoded as a one-hot vector of length equal to our vocabulary size (call it 𝑉). If each float occupies 16 bytes, then storing one vector requires 𝑉×16 bytes."
   ]
  },
  {
   "cell_type": "markdown",
   "id": "1f3b3700",
   "metadata": {
    "id": "1f3b3700"
   },
   "source": [
    "# Q3 Principal Component Analysis\n",
    "\n",
    "**Q3.1** Using the overview encoded into one-hot encodings, perform PCA and plot this into a 2-D image as a scatter plot."
   ]
  },
  {
   "cell_type": "code",
   "execution_count": 16,
   "id": "832f2be7",
   "metadata": {
    "id": "832f2be7"
   },
   "outputs": [
    {
     "data": {
      "image/png": "[encoded data removed]",
      "text/plain": [
       "<Figure size 800x600 with 1 Axes>"
      ]
     },
     "metadata": {},
     "output_type": "display_data"
    }
   ],
   "source": [
    "# import PCA decomposition class from sklearn\n",
    "from sklearn.decomposition import PCA\n",
    "\n",
    "# Convert the one_hot_overview column (which contains numpy arrays) into a 2D numpy array\n",
    "one_hot_matrix = np.stack(df[\"one_hot_overview\"].values)\n",
    "\n",
    "# Perform PCA to reduce to 2 components\n",
    "pca = PCA(n_components=2)\n",
    "pca_result = pca.fit_transform(one_hot_matrix)\n",
    "\n",
    "# Plot the 2-D PCA result as a scatter plot\n",
    "plt.figure(figsize=(8, 6))\n",
    "plt.scatter(pca_result[:, 0], pca_result[:, 1], alpha=0.7)\n",
    "plt.title(\"PCA of One-Hot Encoded Overviews\")\n",
    "plt.xlabel(\"Principal Component 1\")\n",
    "plt.ylabel(\"Principal Component 2\")\n",
    "plt.grid(True)\n",
    "plt.show()"
   ]
  },
  {
   "cell_type": "markdown",
   "id": "a63054b6",
   "metadata": {
    "id": "a63054b6"
   },
   "source": [
    "**Q3.2** Do you see any interpretable structure in the above plot (\"interpretable\" $\\rightarrow$ the patterns are explainable)."
   ]
  },
  {
   "cell_type": "markdown",
   "id": "a9409e7b",
   "metadata": {
    "id": "a9409e7b"
   },
   "source": [
    "There isn’t any clear interpretable structure - some clusters are visible, suggesting there might be groupings based on similar vocabulary. However, the clusters aren't sharply separated, so their exact interpretation remains somewhat ambiguous."
   ]
  },
  {
   "cell_type": "markdown",
   "id": "4482c5e5",
   "metadata": {
    "id": "4482c5e5"
   },
   "source": [
    "**Q3.3** Quantify how much variance information a 2D PCA projection loses for this dataset."
   ]
  },
  {
   "cell_type": "code",
   "execution_count": null,
   "id": "d5601104",
   "metadata": {},
   "outputs": [
    {
     "name": "stdout",
     "output_type": "stream",
     "text": [
      "Total variance explained by 2 components: 11.29%\n",
      "Variance lost in the 2D projection: 88.71%\n"
     ]
    }
   ],
   "source": [
    "# Quantify how much variance is explained by the 2D PCA projection and how much is lost\n",
    "explained_variance = pca.explained_variance_ratio_\n",
    "total_explained = explained_variance.sum()\n",
    "variance_loss = 1 - total_explained\n",
    "\n",
    "print(\"Total variance explained by 2 components: {:.2%}\".format(total_explained))\n",
    "print(\"Variance lost in the 2D projection: {:.2%}\".format(variance_loss))\n"
   ]
  },
  {
   "cell_type": "markdown",
   "id": "2338a25d",
   "metadata": {
    "id": "2338a25d"
   },
   "source": [
    "The 2D PCA projection retains only about 11.29% of the total variance, meaning that roughly 88.71% of the variance is lost."
   ]
  },
  {
   "cell_type": "markdown",
   "id": "7da99ba5",
   "metadata": {
    "id": "7da99ba5"
   },
   "source": [
    "**Q3.4** Plot a line graph where the y-axis is cumulative explained variance ratio and the x-axis is the number of PCA components."
   ]
  },
  {
   "cell_type": "code",
   "execution_count": 18,
   "id": "e0cac8ff",
   "metadata": {
    "id": "e0cac8ff",
    "scrolled": false
   },
   "outputs": [
    {
     "data": {
      "image/png": "[encoded data removed]",
      "text/plain": [
       "<Figure size 640x480 with 1 Axes>"
      ]
     },
     "metadata": {},
     "output_type": "display_data"
    }
   ],
   "source": [
    "# Set up PCA object with the desired number of components\n",
    "one_hot_matrix = np.stack(df[\"one_hot_overview\"].values)\n",
    "pca = PCA(n_components=50)\n",
    "# fit transform one_hot_overview encodings\n",
    "labels_pca = pca.fit_transform(one_hot_matrix)\n",
    "# get explained variance ratio from object, store it in a list\n",
    "explained_variance = pca.explained_variance_ratio_\n",
    "cumulative_variance = np.cumsum(explained_variance)\n",
    "\n",
    "plt.plot(np.arange(1, len(cumulative_variance) + 1), cumulative_variance, marker='o')\n",
    "# set up y label, x label, title\n",
    "plt.xlabel(\"Number of PCA Components\")\n",
    "plt.ylabel(\"Cumulative Explained Variance Ratio\")\n",
    "plt.title(\"Cumulative Explained Variance vs. Number of PCA Components\")\n",
    "plt.grid(True)\n",
    "plt.show()"
   ]
  },
  {
   "cell_type": "markdown",
   "id": "8b36c9b2",
   "metadata": {
    "id": "8b36c9b2"
   },
   "source": [
    "**Q3.5** How many principal components do you need in order to explain 80% of the total variance in the data?\n",
    "\n",
    "Note: don't just estimate it by eye, write some code to compute it for you."
   ]
  },
  {
   "cell_type": "code",
   "execution_count": 19,
   "id": "95c44b2d",
   "metadata": {
    "id": "95c44b2d"
   },
   "outputs": [
    {
     "name": "stdout",
     "output_type": "stream",
     "text": [
      "Number of components needed for >= 80% variance: 1\n"
     ]
    }
   ],
   "source": [
    "threshold = 0.80  # 80% variance\n",
    "\n",
    "# Find the smallest number of components needed to reach at least 80% variance\n",
    "num_components_for_80 = np.argmax(cumulative_variance >= threshold) + 1\n",
    "\n",
    "print(f\"Number of components needed for >= 80% variance: {num_components_for_80}\")"
   ]
  },
  {
   "cell_type": "markdown",
   "id": "b608db91",
   "metadata": {
    "id": "b608db91"
   },
   "source": [
    "1"
   ]
  },
  {
   "cell_type": "markdown",
   "id": "ee3b5c33",
   "metadata": {
    "id": "ee3b5c33"
   },
   "source": [
    "**Q3.6** Using the number of dimensions you found in Q3.5, fit and transform your overview encodings using PCA and add it to a new column called `overview_pca` in the dataframe."
   ]
  },
  {
   "cell_type": "code",
   "execution_count": 21,
   "id": "8a6eb40b",
   "metadata": {
    "id": "8a6eb40b"
   },
   "outputs": [],
   "source": [
    "n_dims = num_components_for_80  # number of PCA components from Q3.5\n",
    "pca = PCA(n_components=n_dims)\n",
    "labels_pca = pca.fit_transform(one_hot_matrix)\n",
    "df.loc[:, \"overview_pca\"] = list(labels_pca)"
   ]
  },
  {
   "cell_type": "markdown",
   "id": "309d3256",
   "metadata": {
    "id": "309d3256"
   },
   "source": [
    "# Q4 K-Means Clustering\n",
    "\n",
    "**Q4.1** Cluster the movies based on the features that were extracted via PCA in the last step. Set $K=20$. Add the predicted cluster into the dataframe as a new column called `cluster_kmeans`. Print out the elements of cluster number 0 from the dataframe."
   ]
  },
  {
   "cell_type": "code",
   "execution_count": 22,
   "id": "f5f5781e",
   "metadata": {
    "id": "f5f5781e"
   },
   "outputs": [
    {
     "name": "stdout",
     "output_type": "stream",
     "text": [
      "                    title                                           overview  \\\n",
      "86    Shrek Forever After  A bored and domesticated Shrek pacts with deal...   \n",
      "118           Ratatouille  A rat named Remy dreams of becoming a great Fr...   \n",
      "135           The Wolfman  Lawrence Talbot, an American man on a visit to...   \n",
      "214     The Perfect Storm  In October 1991, a confluence of weather condi...   \n",
      "236           Windtalkers  Joe Enders is a gung-ho Marine assigned to pro...   \n",
      "...                   ...                                                ...   \n",
      "4738           Queen Crab  A meteor crashes into a quiet lake in the remo...   \n",
      "4750              Hayride  A college student returning home for Halloween...   \n",
      "4759    George Washington  A delicately told and deceptively simple story...   \n",
      "4777          Dutch Kills  A desperate ex-con is forced to gather his old...   \n",
      "4786                Clean  After losing her husband to a heroin overdose,...   \n",
      "\n",
      "                                                 genres      proc_genres  \\\n",
      "86    [{\"id\": 35, \"name\": \"Comedy\"}, {\"id\": 12, \"nam...           Family   \n",
      "118   [{\"id\": 16, \"name\": \"Animation\"}, {\"id\": 35, \"...           Family   \n",
      "135   [{\"id\": 18, \"name\": \"Drama\"}, {\"id\": 27, \"name...         Thriller   \n",
      "214                       [{\"id\": 18, \"name\": \"Drama\"}]            Drama   \n",
      "236   [{\"id\": 18, \"name\": \"Drama\"}, {\"id\": 28, \"name...          History   \n",
      "...                                                 ...              ...   \n",
      "4738           [{\"id\": 878, \"name\": \"Science Fiction\"}]  Science Fiction   \n",
      "4750  [{\"id\": 53, \"name\": \"Thriller\"}, {\"id\": 27, \"n...           Horror   \n",
      "4759                      [{\"id\": 18, \"name\": \"Drama\"}]            Drama   \n",
      "4777  [{\"id\": 53, \"name\": \"Thriller\"}, {\"id\": 80, \"n...            Drama   \n",
      "4786                      [{\"id\": 18, \"name\": \"Drama\"}]            Drama   \n",
      "\n",
      "                                         one_hot_genres  \\\n",
      "86    [0.0, 0.0, 0.0, 0.0, 0.0, 0.0, 0.0, 1.0, 0.0, ...   \n",
      "118   [0.0, 0.0, 0.0, 0.0, 0.0, 0.0, 0.0, 1.0, 0.0, ...   \n",
      "135   [0.0, 0.0, 0.0, 0.0, 0.0, 0.0, 0.0, 0.0, 0.0, ...   \n",
      "214   [0.0, 0.0, 0.0, 0.0, 0.0, 0.0, 1.0, 0.0, 0.0, ...   \n",
      "236   [0.0, 0.0, 0.0, 0.0, 0.0, 0.0, 0.0, 0.0, 0.0, ...   \n",
      "...                                                 ...   \n",
      "4738  [0.0, 0.0, 0.0, 0.0, 0.0, 0.0, 0.0, 0.0, 0.0, ...   \n",
      "4750  [0.0, 0.0, 0.0, 0.0, 0.0, 0.0, 0.0, 0.0, 0.0, ...   \n",
      "4759  [0.0, 0.0, 0.0, 0.0, 0.0, 0.0, 1.0, 0.0, 0.0, ...   \n",
      "4777  [0.0, 0.0, 0.0, 0.0, 0.0, 0.0, 1.0, 0.0, 0.0, ...   \n",
      "4786  [0.0, 0.0, 0.0, 0.0, 0.0, 0.0, 1.0, 0.0, 0.0, ...   \n",
      "\n",
      "                                          proc_overview  \\\n",
      "86    [a, bored, and, domesticated, shrek, pacts, wi...   \n",
      "118   [a, rat, named, remy, dreams, of, becoming, a,...   \n",
      "135   [lawrence, talbot, an, american, man, on, a, v...   \n",
      "214   [in, october, 1991, a, confluence, of, weather...   \n",
      "236   [joe, enders, is, a, gungho, marine, assigned,...   \n",
      "...                                                 ...   \n",
      "4738  [a, meteor, crashes, into, a, quiet, lake, in,...   \n",
      "4750  [a, college, student, returning, home, for, ha...   \n",
      "4759  [a, delicately, told, and, deceptively, simple...   \n",
      "4777  [a, desperate, excon, is, forced, to, gather, ...   \n",
      "4786  [after, losing, her, husband, to, a, heroin, o...   \n",
      "\n",
      "                                       one_hot_overview overview_pca  \\\n",
      "86    [0.0, 0.0, 0.0, 0.0, 0.0, 0.0, 0.0, 0.0, 0.0, ...    -0.956573   \n",
      "118   [0.0, 0.0, 0.0, 0.0, 0.0, 0.0, 0.0, 0.0, 0.0, ...    -1.014808   \n",
      "135   [0.0, 0.0, 0.0, 0.0, 0.0, 0.0, 0.0, 0.0, 0.0, ...    -0.955108   \n",
      "214   [0.0, 0.0, 0.0, 0.0, 0.0, 0.0, 0.0, 0.0, 0.0, ...    -0.986182   \n",
      "236   [0.0, 0.0, 0.0, 0.0, 0.0, 0.0, 0.0, 0.0, 0.0, ...    -1.054104   \n",
      "...                                                 ...          ...   \n",
      "4738  [0.0, 0.0, 0.0, 0.0, 0.0, 0.0, 0.0, 0.0, 0.0, ...      -1.0783   \n",
      "4750  [0.0, 0.0, 0.0, 0.0, 0.0, 0.0, 0.0, 0.0, 0.0, ...    -0.910846   \n",
      "4759  [0.0, 0.0, 0.0, 0.0, 0.0, 0.0, 0.0, 0.0, 0.0, ...    -1.150856   \n",
      "4777  [0.0, 0.0, 0.0, 0.0, 0.0, 0.0, 0.0, 0.0, 0.0, ...    -0.966294   \n",
      "4786  [0.0, 0.0, 0.0, 0.0, 0.0, 0.0, 0.0, 0.0, 0.0, ...    -0.961311   \n",
      "\n",
      "      cluster_kmeans  \n",
      "86                 0  \n",
      "118                0  \n",
      "135                0  \n",
      "214                0  \n",
      "236                0  \n",
      "...              ...  \n",
      "4738               0  \n",
      "4750               0  \n",
      "4759               0  \n",
      "4777               0  \n",
      "4786               0  \n",
      "\n",
      "[198 rows x 9 columns]\n"
     ]
    },
    {
     "name": "stderr",
     "output_type": "stream",
     "text": [
      "/var/folders/k3/0zd3xff9283_dr0xzvydz7h80000gn/T/ipykernel_11101/2158140443.py:10: SettingWithCopyWarning: \n",
      "A value is trying to be set on a copy of a slice from a DataFrame.\n",
      "Try using .loc[row_indexer,col_indexer] = value instead\n",
      "\n",
      "See the caveats in the documentation: https://pandas.pydata.org/pandas-docs/stable/user_guide/indexing.html#returning-a-view-versus-a-copy\n",
      "  df[\"cluster_kmeans\"] = y_preds # set predictions\n"
     ]
    }
   ],
   "source": [
    "# import KMeans class\n",
    "from sklearn.cluster import KMeans\n",
    "\n",
    "# Perform K-means clustering\n",
    "kmeans = KMeans(n_clusters=20, random_state=42)\n",
    "# fit model\n",
    "kmeans.fit(labels_pca)\n",
    "\n",
    "y_preds = kmeans.predict(labels_pca)\n",
    "df[\"cluster_kmeans\"] = y_preds # set predictions\n",
    "\n",
    "# print out elements of cluster 0\n",
    "print(df[df[\"cluster_kmeans\"] == 0])"
   ]
  },
  {
   "cell_type": "markdown",
   "id": "34334c6c",
   "metadata": {
    "id": "34334c6c"
   },
   "source": [
    "**Q4.2** Does this clustering seem alright to you (based on your movie watching history)? Are there movies that go well together and movies that don't?"
   ]
  },
  {
   "cell_type": "markdown",
   "id": "9f1d40cc",
   "metadata": {
    "id": "9f1d40cc"
   },
   "source": [
    "The clusters capture some thematic similarities—movies like Shrek Forever After and Ratatouille appear together, indicating a grouping of family-friendly films. However, some clusters mix genres in ways that don't fully match intuitive groupings, suggesting that while the clustering is on the right track, further tuning or richer features could improve its alignment with typical movie genres."
   ]
  },
  {
   "cell_type": "markdown",
   "id": "0407f9e4",
   "metadata": {
    "id": "0407f9e4"
   },
   "source": [
    "**Q4.3** Now, we'll figure out whether using the elbow method is right for this dataset. Plot a loss (using `kmeans.inertia_`) versus cluster size plot. Is there an elbow that you see clearly? What cluster size would you choose?"
   ]
  },
  {
   "cell_type": "markdown",
   "id": "4984dcd9",
   "metadata": {
    "id": "4984dcd9"
   },
   "source": [
    "The plot shows a steep drop from 1 to around 6 clusters, after which the inertia decreases more slowly. There’s no single sharp elbow, but around 6 or 7 clusters seems like a reasonable choice."
   ]
  },
  {
   "cell_type": "code",
   "execution_count": 23,
   "id": "cb3a37ee",
   "metadata": {
    "id": "cb3a37ee"
   },
   "outputs": [
    {
     "data": {
      "image/png": "[encoded data removed]",
      "text/plain": [
       "<Figure size 800x600 with 1 Axes>"
      ]
     },
     "metadata": {},
     "output_type": "display_data"
    }
   ],
   "source": [
    "cluster_sizes = range(1, 21)\n",
    "inertias = []\n",
    "\n",
    "# For each k, fit KMeans and record the inertia (loss)\n",
    "for k in cluster_sizes:\n",
    "    km = KMeans(n_clusters=k, random_state=42)\n",
    "    km.fit(labels_pca)  # Using the PCA-transformed features from Q3.6\n",
    "    inertias.append(km.inertia_)\n",
    "\n",
    "# Plot the inertia (loss) vs. cluster size\n",
    "plt.figure(figsize=(8, 6))\n",
    "plt.plot(cluster_sizes, inertias, marker='o')\n",
    "plt.xlabel(\"Number of Clusters (K)\")\n",
    "plt.ylabel(\"Inertia (Loss)\")\n",
    "plt.title(\"Elbow Method for KMeans Clustering\")\n",
    "plt.grid(True)\n",
    "plt.show()"
   ]
  },
  {
   "cell_type": "markdown",
   "id": "3e89e224",
   "metadata": {
    "id": "3e89e224"
   },
   "source": [
    "# Q5 Gaussian Mixture Models\n",
    "\n",
    "**Q5.1** As with the K-means above, cluster the movies based on the features that were extracted via PCA in a previous step. Set $K=20$. Add the predicted cluster into the dataframe as a new column called `cluster_gmm`. Print out the elements of a single cluster of your choice from the dataframe."
   ]
  },
  {
   "cell_type": "code",
   "execution_count": 24,
   "id": "86735028",
   "metadata": {
    "id": "86735028"
   },
   "outputs": [
    {
     "name": "stdout",
     "output_type": "stream",
     "text": [
      "                    title                                           overview  \\\n",
      "86    Shrek Forever After  A bored and domesticated Shrek pacts with deal...   \n",
      "118           Ratatouille  A rat named Remy dreams of becoming a great Fr...   \n",
      "135           The Wolfman  Lawrence Talbot, an American man on a visit to...   \n",
      "206   Clash of the Titans  Born of a god but raised as a man, Perseus is ...   \n",
      "214     The Perfect Storm  In October 1991, a confluence of weather condi...   \n",
      "...                   ...                                                ...   \n",
      "4699       Perfect Cowboy  Two gay fathers of a straight country western ...   \n",
      "4738           Queen Crab  A meteor crashes into a quiet lake in the remo...   \n",
      "4759    George Washington  A delicately told and deceptively simple story...   \n",
      "4777          Dutch Kills  A desperate ex-con is forced to gather his old...   \n",
      "4786                Clean  After losing her husband to a heroin overdose,...   \n",
      "\n",
      "                                                 genres      proc_genres  \\\n",
      "86    [{\"id\": 35, \"name\": \"Comedy\"}, {\"id\": 12, \"nam...           Family   \n",
      "118   [{\"id\": 16, \"name\": \"Animation\"}, {\"id\": 35, \"...           Family   \n",
      "135   [{\"id\": 18, \"name\": \"Drama\"}, {\"id\": 27, \"name...         Thriller   \n",
      "206   [{\"id\": 12, \"name\": \"Adventure\"}, {\"id\": 14, \"...          Fantasy   \n",
      "214                       [{\"id\": 18, \"name\": \"Drama\"}]            Drama   \n",
      "...                                                 ...              ...   \n",
      "4699                      [{\"id\": 18, \"name\": \"Drama\"}]            Drama   \n",
      "4738           [{\"id\": 878, \"name\": \"Science Fiction\"}]  Science Fiction   \n",
      "4759                      [{\"id\": 18, \"name\": \"Drama\"}]            Drama   \n",
      "4777  [{\"id\": 53, \"name\": \"Thriller\"}, {\"id\": 80, \"n...            Drama   \n",
      "4786                      [{\"id\": 18, \"name\": \"Drama\"}]            Drama   \n",
      "\n",
      "                                         one_hot_genres  \\\n",
      "86    [0.0, 0.0, 0.0, 0.0, 0.0, 0.0, 0.0, 1.0, 0.0, ...   \n",
      "118   [0.0, 0.0, 0.0, 0.0, 0.0, 0.0, 0.0, 1.0, 0.0, ...   \n",
      "135   [0.0, 0.0, 0.0, 0.0, 0.0, 0.0, 0.0, 0.0, 0.0, ...   \n",
      "206   [0.0, 0.0, 0.0, 0.0, 0.0, 0.0, 0.0, 0.0, 1.0, ...   \n",
      "214   [0.0, 0.0, 0.0, 0.0, 0.0, 0.0, 1.0, 0.0, 0.0, ...   \n",
      "...                                                 ...   \n",
      "4699  [0.0, 0.0, 0.0, 0.0, 0.0, 0.0, 1.0, 0.0, 0.0, ...   \n",
      "4738  [0.0, 0.0, 0.0, 0.0, 0.0, 0.0, 0.0, 0.0, 0.0, ...   \n",
      "4759  [0.0, 0.0, 0.0, 0.0, 0.0, 0.0, 1.0, 0.0, 0.0, ...   \n",
      "4777  [0.0, 0.0, 0.0, 0.0, 0.0, 0.0, 1.0, 0.0, 0.0, ...   \n",
      "4786  [0.0, 0.0, 0.0, 0.0, 0.0, 0.0, 1.0, 0.0, 0.0, ...   \n",
      "\n",
      "                                          proc_overview  \\\n",
      "86    [a, bored, and, domesticated, shrek, pacts, wi...   \n",
      "118   [a, rat, named, remy, dreams, of, becoming, a,...   \n",
      "135   [lawrence, talbot, an, american, man, on, a, v...   \n",
      "206   [born, of, a, god, but, raised, as, a, man, pe...   \n",
      "214   [in, october, 1991, a, confluence, of, weather...   \n",
      "...                                                 ...   \n",
      "4699  [two, gay, fathers, of, a, straight, country, ...   \n",
      "4738  [a, meteor, crashes, into, a, quiet, lake, in,...   \n",
      "4759  [a, delicately, told, and, deceptively, simple...   \n",
      "4777  [a, desperate, excon, is, forced, to, gather, ...   \n",
      "4786  [after, losing, her, husband, to, a, heroin, o...   \n",
      "\n",
      "                                       one_hot_overview overview_pca  \\\n",
      "86    [0.0, 0.0, 0.0, 0.0, 0.0, 0.0, 0.0, 0.0, 0.0, ...    -0.956573   \n",
      "118   [0.0, 0.0, 0.0, 0.0, 0.0, 0.0, 0.0, 0.0, 0.0, ...    -1.014808   \n",
      "135   [0.0, 0.0, 0.0, 0.0, 0.0, 0.0, 0.0, 0.0, 0.0, ...    -0.955108   \n",
      "206   [0.0, 0.0, 0.0, 0.0, 0.0, 0.0, 0.0, 0.0, 0.0, ...    -1.166459   \n",
      "214   [0.0, 0.0, 0.0, 0.0, 0.0, 0.0, 0.0, 0.0, 0.0, ...    -0.986182   \n",
      "...                                                 ...          ...   \n",
      "4699  [0.0, 0.0, 0.0, 0.0, 0.0, 0.0, 0.0, 0.0, 0.0, ...     -0.92831   \n",
      "4738  [0.0, 0.0, 0.0, 0.0, 0.0, 0.0, 0.0, 0.0, 0.0, ...      -1.0783   \n",
      "4759  [0.0, 0.0, 0.0, 0.0, 0.0, 0.0, 0.0, 0.0, 0.0, ...    -1.150856   \n",
      "4777  [0.0, 0.0, 0.0, 0.0, 0.0, 0.0, 0.0, 0.0, 0.0, ...    -0.966294   \n",
      "4786  [0.0, 0.0, 0.0, 0.0, 0.0, 0.0, 0.0, 0.0, 0.0, ...    -0.961311   \n",
      "\n",
      "      cluster_kmeans  cluster_gmm  \n",
      "86                 0            0  \n",
      "118                0            0  \n",
      "135                0            0  \n",
      "206               12            0  \n",
      "214                0            0  \n",
      "...              ...          ...  \n",
      "4699               0            0  \n",
      "4738               0            0  \n",
      "4759               0            0  \n",
      "4777               0            0  \n",
      "4786               0            0  \n",
      "\n",
      "[195 rows x 10 columns]\n"
     ]
    },
    {
     "name": "stderr",
     "output_type": "stream",
     "text": [
      "/var/folders/k3/0zd3xff9283_dr0xzvydz7h80000gn/T/ipykernel_11101/1883963941.py:13: SettingWithCopyWarning: \n",
      "A value is trying to be set on a copy of a slice from a DataFrame.\n",
      "Try using .loc[row_indexer,col_indexer] = value instead\n",
      "\n",
      "See the caveats in the documentation: https://pandas.pydata.org/pandas-docs/stable/user_guide/indexing.html#returning-a-view-versus-a-copy\n",
      "  df[\"cluster_gmm\"] = y_preds_gmm\n"
     ]
    }
   ],
   "source": [
    "from sklearn.mixture import GaussianMixture\n",
    "\n",
    "# Create a Gaussian Mixture Model with 20 components\n",
    "gmm = GaussianMixture(n_components=20, random_state=42)\n",
    "\n",
    "# Fit the GMM on the PCA-transformed features (labels_pca)\n",
    "gmm.fit(labels_pca)\n",
    "\n",
    "# Predict cluster labels\n",
    "y_preds_gmm = gmm.predict(labels_pca)\n",
    "\n",
    "# Add the predicted cluster labels to the dataframe\n",
    "df[\"cluster_gmm\"] = y_preds_gmm\n",
    "\n",
    "# Print out the elements of a chosen cluster (e.g., cluster 0)\n",
    "print(df[df[\"cluster_gmm\"] == 0])"
   ]
  },
  {
   "cell_type": "markdown",
   "id": "95ed02d9",
   "metadata": {
    "id": "95ed02d9"
   },
   "source": [
    "**Q5.2** Does this clustering seem alright to you (based on your movie watching history)? Are there movies that go well together and movies that don't? How does this compare to K-Means Clustering?"
   ]
  },
  {
   "cell_type": "markdown",
   "id": "c62e20dd",
   "metadata": {
    "id": "c62e20dd"
   },
   "source": [
    "Based on my viewing experience, the clusters mostly make sense—movies with similar themes tend to group together.\n",
    "The GMM clusters are similar to K-means—they mostly group together movies with similar themes. However, GMM produces softer, probabilistic boundaries, so some clusters overlap more. Overall, both methods give reasonable groupings, with GMM capturing uncertainty a bit better."
   ]
  },
  {
   "cell_type": "markdown",
   "id": "3b0064a1",
   "metadata": {
    "id": "3b0064a1"
   },
   "source": [
    "**Q5.3** Let's check out the size of the clusters. Create a double bar plot (**as you did in the last assignment**) showing the different sizes of the clusters.\n",
    "\n",
    "*Hint: you may want to consider `df.value_counts()` if you're unfamiliar.*"
   ]
  },
  {
   "cell_type": "code",
   "execution_count": 25,
   "id": "e775ad4f",
   "metadata": {
    "id": "e775ad4f"
   },
   "outputs": [
    {
     "data": {
      "image/png": "[encoded data removed]",
      "text/plain": [
       "<Figure size 1000x600 with 1 Axes>"
      ]
     },
     "metadata": {},
     "output_type": "display_data"
    }
   ],
   "source": [
    "# Get counts of movies per cluster from K-Means and GMM, sorted by cluster number\n",
    "kmeans_counts = df[\"cluster_kmeans\"].value_counts().sort_index()\n",
    "gmm_counts = df[\"cluster_gmm\"].value_counts().sort_index()\n",
    "\n",
    "# Create an array for the x-axis positions\n",
    "clusters = np.arange(len(kmeans_counts))\n",
    "\n",
    "# Plotting the bars\n",
    "bar_width = 0.35\n",
    "plt.figure(figsize=(10, 6))\n",
    "plt.bar(clusters - bar_width/2, kmeans_counts.values, width=bar_width, label=\"K-Means\")\n",
    "plt.bar(clusters + bar_width/2, gmm_counts.values, width=bar_width, label=\"GMM\")\n",
    "\n",
    "# Add labels, title, and legend\n",
    "plt.xlabel(\"Cluster Number\")\n",
    "plt.ylabel(\"Number of Movies\")\n",
    "plt.title(\"Cluster Sizes for K-Means and GMM\")\n",
    "plt.xticks(clusters, kmeans_counts.index)\n",
    "plt.legend()\n",
    "plt.show()"
   ]
  },
  {
   "cell_type": "markdown",
   "id": "cfc124da",
   "metadata": {
    "id": "cfc124da"
   },
   "source": [
    "**Q5.4** Do you see a significant difference in the sizes of the clusters? Which is more uniform? Any thought on why?"
   ]
  },
  {
   "cell_type": "markdown",
   "id": "9f538519",
   "metadata": {
    "id": "9f538519"
   },
   "source": [
    "Some clusters differ noticeably in size between K-Means and GMM. Generally, K-Means tends to produce more uniform cluster sizes because it partitions the space into Voronoi regions. GMM allows clusters to overlap probabilistically, so it may group more data in certain clusters and less in others, resulting in more variation."
   ]
  },
  {
   "cell_type": "markdown",
   "id": "aa60615d",
   "metadata": {
    "id": "aa60615d"
   },
   "source": [
    "# Q6: A very simple recommender system\n",
    "\n",
    "One useful thing that clustering is often used for (though at a much greater complexity) is in **recommender systems**. These are systems with users and items (movies, files, documents, etc.), where new items are shown to the user based on what they've previously interacted with, and possibly also on the behaviour of other users.\n",
    "\n",
    "**Q6.1** Assume your dentist has just watched the movie Avatar and asks you for a recommendation. Lucky for you, you just finished this assignment. Using the cluster indices of the movie Avatar for both the K-means and GMM methods, print out suggestions for new movies."
   ]
  },
  {
   "cell_type": "code",
   "execution_count": 26,
   "id": "86a74f68",
   "metadata": {
    "id": "86a74f68"
   },
   "outputs": [
    {
     "name": "stdout",
     "output_type": "stream",
     "text": [
      "Movies similar to 'Avatar' according to K-Means clustering:\n",
      "['Avatar' 'Tangled' 'The Avengers' 'The Golden Compass' 'Iron Man 3'\n",
      " 'Monsters University' 'The Great Gatsby' 'Jupiter Ascending'\n",
      " 'The Jungle Book' 'Night at the Museum: Battle of the Smithsonian'\n",
      " 'X-Men Origins: Wolverine' 'Frozen' 'Thor' 'Flushed Away'\n",
      " 'Men in Black II' 'Kung Fu Panda 3' 'Sahara' 'The Bourne Ultimatum'\n",
      " 'Prometheus' 'The Chronicles of Riddick' 'The Wolverine'\n",
      " 'Mr. & Mrs. Smith' 'Minority Report' 'Public Enemies' 'True Lies'\n",
      " 'The Taking of Pelham 1 2 3' 'Blood Diamond' 'Hercules' 'Black Hawk Down'\n",
      " 'Cloudy with a Chance of Meatballs' 'Contact' 'The Interpreter'\n",
      " 'Hotel Transylvania' 'Open Season' 'Enemy at the Gates'\n",
      " 'Arthur Christmas' 'All That Jazz' 'Looney Tunes: Back in Action'\n",
      " 'Exorcist: The Beginning' 'Dreamgirls' 'Tears of the Sun'\n",
      " 'The Simpsons Movie' 'The SpongeBob Movie: Sponge Out of Water'\n",
      " 'The Siege' 'Hall Pass' 'The X Files' 'Dreamcatcher' 'Lincoln'\n",
      " 'Space Cowboys' 'Death Race' 'Hudson Hawk' 'Marley & Me'\n",
      " 'Two Weeks Notice' 'Mercury Rising' 'DragonHeart' 'The Pacifier'\n",
      " 'Free Birds' 'Chain Reaction' 'Muppets Most Wanted' 'Burlesque'\n",
      " 'Bulletproof Monk' 'Inside Man' 'Garfield' 'Outbreak' 'Silent Hill'\n",
      " 'Striptease' 'Escape from L.A.' 'Free State of Jones'\n",
      " \"Happily N'Ever After\" \"America's Sweethearts\" 'From Hell'\n",
      " 'Aliens in the Attic' 'Love in the Time of Cholera' 'Sleepers'\n",
      " '21 Jump Street' 'The Proposal' 'Scary Movie 4' 'Julie & Julia'\n",
      " 'The Final Destination' 'The Living Daylights' 'Paul' 'Mickey Blue Eyes'\n",
      " 'At First Sight' 'Amélie' 'Burn After Reading' 'Rush' 'Aloha'\n",
      " 'Snow Falling on Cedars' 'Lethal Weapon 3' 'Sky High' 'Species'\n",
      " 'The Four Feathers' 'Bandidas' 'Thunder and the House of Magic'\n",
      " 'Ace Ventura: When Nature Calls' 'Midnight in Paris' 'A View to a Kill'\n",
      " 'Letters to Juliet' 'Glory Road' 'Midnight Run' 'The Running Man'\n",
      " 'Virtuosity' 'The New World' 'The Good Thief' \"Ripley's Game\"\n",
      " 'Sausage Party' 'Cry Freedom' 'Role Models' 'Miracle' 'Ghosts of Mars'\n",
      " 'The Blues Brothers' 'Legion' 'Brothers' 'The Lucky One'\n",
      " 'A Madea Christmas' 'There Will Be Blood' 'Bride of Chucky'\n",
      " 'Eddie the Eagle' 'The Adventures of Pinocchio' 'Fly Me to the Moon'\n",
      " 'Waterloo' 'The Fisher King' 'Pitch Black' 'Jaws: The Revenge' '1408'\n",
      " 'Sorcerer' 'To Rome with Love' 'Moonlight Mile' 'eXistenZ' 'Holes'\n",
      " '12 Years a Slave' 'Babel' 'Ghost Ship' 'Daybreakers'\n",
      " 'Capitalism: A Love Story' 'Lockout' '3 Ninjas Kick Back'\n",
      " 'Mrs Henderson Presents' 'Triple 9' \"Everybody's Fine\" 'Connie and Carla'\n",
      " \"I'm Not There.\" 'By the Sea' 'Scream' 'Thomas and the Magic Railroad'\n",
      " 'Kansas City' 'The Exorcism of Emily Rose' 'Roar'\n",
      " 'Vicky Cristina Barcelona' 'Drowning Mona' 'Detroit Rock City'\n",
      " 'Little Women' 'Big Fat Liar' 'The Last House on the Left'\n",
      " 'New York Stories' 'Peeples' 'Slumdog Millionaire' 'White Fang'\n",
      " 'Seven Psychopaths' 'Baby Geniuses' 'The Perks of Being a Wallflower'\n",
      " 'Cat People' 'The Fault in Our Stars' 'Stir of Echoes' 'Paper Towns'\n",
      " 'Das Boot' 'Sorority Boys' 'For Your Consideration' 'Fateless' 'Cypher'\n",
      " '10 Days in a Madhouse' 'A Tale of Three Cities' 'The Ladies Man'\n",
      " 'Tomcats' 'Return to the Blue Lagoon' 'LOL' \"Recess: School's Out\"\n",
      " 'Friday After Next' 'The Outsiders' 'Roll Bounce' 'The Perfect Man'\n",
      " 'Tremors' 'The Goods: Live Hard, Sell Hard' 'Sleepover'\n",
      " 'The Straight Story' 'Crash' 'Malone' 'The Forest' 'Nicholas Nickleby'\n",
      " 'Cecil B. Demented' 'Cinco de Mayo: La Batalla' 'Fifty Dead Men Walking'\n",
      " 'Plastic' 'The Texas Chain Saw Massacre' 'The Purge: Anarchy'\n",
      " 'Igby Goes Down' 'Glee: The Concert Movie' 'Half Baked' 'Prom'\n",
      " 'Howards End' 'Fido' 'Men with Brooms' 'The Man with the Golden Gun'\n",
      " 'Warlock' 'Split Second' 'Gerry' 'Z Storm' 'Criminal Activities'\n",
      " 'The Adventures of Huck Finn' 'A Mighty Wind' 'Only the Strong'\n",
      " 'Snow Flower and the Secret Fan' 'Videodrome' 'The Sting'\n",
      " 'A Room for Romeo Brass' 'Keeping Up with the Steins' 'Bottle Shock'\n",
      " 'Decoys' 'Driving Lessons' \"Let's Kill Ward's Wife\" 'Moby Dick' 'Airlift'\n",
      " 'Leaving Las Vegas' 'The Kids Are All Right' 'The Night Listener'\n",
      " 'You Kill Me' 'The Barbarians' 'Among Giants' 'Futuro Beach'\n",
      " 'Inescapable' 'How to Fall in Love' 'Desert Dancer' 'Annie Get Your Gun'\n",
      " 'Defendor' 'Midnight Cowboy' 'The Witch' 'March of the Penguins'\n",
      " 'A Christmas Story' 'Waking Ned' 'Jawbreaker' 'Garden State' 'Evil Words'\n",
      " 'The Spectacular Now' 'Anatomy' 'Christmas Mail' 'To Kill a Mockingbird'\n",
      " 'Me and You and Everyone We Know' 'Full Frontal' 'Subway' 'Teeth'\n",
      " 'Circle' \"The Legend of Hell's Gate: An American Conspiracy\"\n",
      " \"River's Edge\" 'The Square' 'The Last Exorcism'\n",
      " 'Dr. Strangelove or: How I Learned to Stop Worrying and Love the Bomb'\n",
      " \"Hang 'em High\" 'Tom Jones' 'The Green Inferno' '20 Feet from Stardom'\n",
      " 'Palo Alto' 'Ajami' 'The House of the Devil' 'Childless'\n",
      " 'ZMD: Zombies of Mass Destruction' 'Zombie Hunter'\n",
      " 'Kevin Hart: Laugh at My Pain' 'Interview with the Assassin'\n",
      " 'All the Boys Love Mandy Lane' 'High Noon' 'Mercy Streets'\n",
      " 'To Save A Life' 'Finishing The Game' 'America Is Still the Place'\n",
      " 'American Ninja 2: The Confrontation' 'First Love, Last Rites'\n",
      " 'The Incredibly True Adventure of Two Girls In Love' 'On the Outs' 'Exam'\n",
      " 'Rust' 'The Beast from 20,000 Fathoms' 'Reality Show' 'Super Hybrid'\n",
      " 'The Man from Earth' 'When the Lights Went Out' 'The Dirties' 'Clerks'\n",
      " 'Slacker' 'The Puffy Chair']\n",
      "\n",
      "Movies similar to 'Avatar' according to GMM clustering:\n",
      "['Avatar' 'Tangled' 'The Avengers' 'The Golden Compass' 'Iron Man 3'\n",
      " 'Monsters University' 'The Great Gatsby' 'Jupiter Ascending'\n",
      " 'The Chronicles of Narnia: The Lion, the Witch and the Wardrobe'\n",
      " 'The Jungle Book' 'Harry Potter and the Order of the Phoenix'\n",
      " 'Night at the Museum: Battle of the Smithsonian'\n",
      " 'X-Men Origins: Wolverine' 'Frozen' 'Thor' 'Flushed Away'\n",
      " 'Men in Black II' 'Kung Fu Panda 3' 'Sahara' 'The Bourne Ultimatum'\n",
      " 'Prometheus' 'The Chronicles of Riddick' 'The Wolverine'\n",
      " 'Mr. & Mrs. Smith' 'Gone in Sixty Seconds' 'Minority Report'\n",
      " 'Public Enemies' 'True Lies' 'The Taking of Pelham 1 2 3' 'Blood Diamond'\n",
      " 'Hercules' 'Black Hawk Down' 'Cloudy with a Chance of Meatballs'\n",
      " 'Contact' 'The Interpreter' 'Hotel Transylvania' 'Open Season'\n",
      " 'Enemy at the Gates' 'Arthur Christmas'\n",
      " 'Alvin and the Chipmunks: Chipwrecked' 'Looney Tunes: Back in Action'\n",
      " 'Exorcist: The Beginning' 'Dreamgirls' 'Tears of the Sun'\n",
      " 'The Simpsons Movie' 'The SpongeBob Movie: Sponge Out of Water'\n",
      " 'The Siege' 'Hall Pass' 'The X Files' 'Dreamcatcher' 'Lincoln'\n",
      " 'Space Cowboys' 'Death Race' 'Hudson Hawk' 'Marley & Me'\n",
      " 'Two Weeks Notice' 'Mercury Rising' 'DragonHeart' 'The Pacifier'\n",
      " 'Superman' 'Chain Reaction' 'Muppets Most Wanted' 'Burlesque'\n",
      " 'Bulletproof Monk' 'Inside Man' 'Garfield' 'Outbreak'\n",
      " 'Hansel & Gretel: Witch Hunters' 'Striptease' 'Escape from L.A.'\n",
      " 'Free State of Jones' \"Happily N'Ever After\" \"America's Sweethearts\"\n",
      " 'From Hell' 'Aliens in the Attic' 'Love in the Time of Cholera'\n",
      " 'Sleepers' '21 Jump Street' 'The Proposal' 'Scary Movie 4'\n",
      " 'Julie & Julia' 'The Final Destination' 'The Living Daylights' 'Paul'\n",
      " 'Mickey Blue Eyes' 'At First Sight' 'Amélie' 'Duplex'\n",
      " 'Burn After Reading' 'Rush' 'Snow Falling on Cedars' 'Lethal Weapon 3'\n",
      " 'Sky High' 'Species' 'The Four Feathers' 'Bandidas'\n",
      " 'Thunder and the House of Magic' 'Ace Ventura: When Nature Calls'\n",
      " 'Midnight in Paris' 'A View to a Kill' 'Letters to Juliet' 'Glory Road'\n",
      " 'Midnight Run' 'The Running Man' 'Virtuosity' 'The New World'\n",
      " 'The Good Thief' \"Ripley's Game\" 'Sausage Party' 'Cry Freedom'\n",
      " 'Role Models' 'Miracle' 'Ghosts of Mars' 'The Blues Brothers' 'Legion'\n",
      " 'Brothers' 'The Lucky One' 'A Madea Christmas' 'There Will Be Blood'\n",
      " 'Bride of Chucky' 'Eddie the Eagle' 'The Adventures of Pinocchio'\n",
      " 'Fly Me to the Moon' 'The Road' 'Waterloo' 'The Fisher King'\n",
      " 'Pitch Black' 'Jaws: The Revenge' '1408' 'Sorcerer' 'To Rome with Love'\n",
      " 'Moonlight Mile' 'eXistenZ' 'Holes' '12 Years a Slave' 'Babel'\n",
      " 'Ghost Ship' 'Street Kings' 'Daybreakers' 'Vampires'\n",
      " 'Capitalism: A Love Story' 'Lockout' '3 Ninjas Kick Back'\n",
      " 'Mrs Henderson Presents' 'Triple 9' 'Code Name: The Cleaner'\n",
      " 'Connie and Carla' 'By the Sea' 'Scream' 'Thomas and the Magic Railroad'\n",
      " 'Kansas City' 'The Exorcism of Emily Rose' 'Metallica: Through the Never'\n",
      " 'Roar' 'Vicky Cristina Barcelona' 'Drowning Mona' 'Detroit Rock City'\n",
      " 'Little Women' 'Big Fat Liar' 'The Last House on the Left'\n",
      " 'Tuck Everlasting' 'New York Stories' 'Peeples' 'Slumdog Millionaire'\n",
      " 'White Fang' 'Seven Psychopaths' 'St. Vincent' 'Baby Geniuses'\n",
      " 'The Perks of Being a Wallflower' 'Cat People' 'The Fault in Our Stars'\n",
      " 'Stir of Echoes' 'Paper Towns' 'Das Boot' 'Sorority Boys'\n",
      " 'For Your Consideration' 'Fateless' 'Cypher' '10 Days in a Madhouse'\n",
      " 'A Tale of Three Cities' 'The Ladies Man' 'Tomcats'\n",
      " 'Return to the Blue Lagoon' 'LOL' 'E.T. the Extra-Terrestrial'\n",
      " \"Recess: School's Out\" 'Friday After Next' 'The Outsiders' 'Roll Bounce'\n",
      " 'The Perfect Man' 'Tremors' 'The Goods: Live Hard, Sell Hard' 'Sleepover'\n",
      " 'The Straight Story' 'Crash' 'Malone' 'The Forest' 'Nicholas Nickleby'\n",
      " 'Cecil B. Demented' 'Cinco de Mayo: La Batalla' 'Fifty Dead Men Walking'\n",
      " 'Plastic' 'The Texas Chain Saw Massacre' 'The Purge: Anarchy'\n",
      " 'Glee: The Concert Movie' 'The Legend of Suriyothai' 'Half Baked' 'Prom'\n",
      " 'Howards End' 'Fido' 'Men with Brooms' 'The Man with the Golden Gun'\n",
      " 'Warlock' 'Split Second' 'Gerry' 'Z Storm' 'Criminal Activities'\n",
      " 'The Adventures of Huck Finn' 'A Home at the End of the World'\n",
      " 'A Mighty Wind' 'Only the Strong' 'Snow Flower and the Secret Fan'\n",
      " 'The Sting' 'A Room for Romeo Brass' 'Bottle Shock' 'Decoys'\n",
      " 'Sleep Tight' 'Driving Lessons' \"Let's Kill Ward's Wife\" 'Moby Dick'\n",
      " 'Airlift' 'Leaving Las Vegas' 'The Kids Are All Right' 'Talk Radio'\n",
      " 'You Kill Me' 'The Barbarians' 'Inescapable' 'How to Fall in Love'\n",
      " 'Desert Dancer' 'Defendor' 'The Witch' 'March of the Penguins'\n",
      " 'A Christmas Story' 'Jawbreaker' 'Garden State' 'Evil Words'\n",
      " 'The Spectacular Now' 'Anatomy' 'Christmas Mail' 'To Kill a Mockingbird'\n",
      " \"Boys Don't Cry\" 'Me and You and Everyone We Know' 'Full Frontal'\n",
      " 'Subway' 'Teeth' '24 7: Twenty Four Seven' 'Circle'\n",
      " \"The Legend of Hell's Gate: An American Conspiracy\" \"River's Edge\"\n",
      " 'The Square' 'The Last Exorcism'\n",
      " 'Dr. Strangelove or: How I Learned to Stop Worrying and Love the Bomb'\n",
      " 'Beasts of the Southern Wild' \"Hang 'em High\" 'Beyond the Black Rainbow'\n",
      " 'Tom Jones' 'The Green Inferno' '20 Feet from Stardom' 'Palo Alto'\n",
      " 'Ajami' 'The House of the Devil' 'In Her Line of Fire' 'Childless'\n",
      " 'ZMD: Zombies of Mass Destruction' 'Zombie Hunter' 'Time Changer'\n",
      " 'Kevin Hart: Laugh at My Pain' 'Interview with the Assassin'\n",
      " 'All the Boys Love Mandy Lane' 'High Noon' 'Mercy Streets'\n",
      " 'To Save A Life' 'Finishing The Game' 'America Is Still the Place'\n",
      " 'The Toxic Avenger' '42nd Street' 'American Ninja 2: The Confrontation'\n",
      " 'First Love, Last Rites'\n",
      " 'The Incredibly True Adventure of Two Girls In Love' 'On the Outs' 'Exam'\n",
      " 'Rust' 'The Beast from 20,000 Fathoms' 'Reality Show' 'Super Hybrid'\n",
      " 'The Man from Earth' 'When the Lights Went Out' 'The Dirties' 'Clerks'\n",
      " 'Slacker' 'The Puffy Chair']\n"
     ]
    }
   ],
   "source": [
    "prev_watch = \"Avatar\"\n",
    "\n",
    "# Find the cluster index for \"Avatar\" using K-Means\n",
    "cluster_kmeans = df.loc[df[\"title\"] == prev_watch, \"cluster_kmeans\"].iloc[0]\n",
    "\n",
    "# Find the cluster index for \"Avatar\" using GMM\n",
    "cluster_gmm = df.loc[df[\"title\"] == prev_watch, \"cluster_gmm\"].iloc[0]\n",
    "\n",
    "# Print out recommendations based on K-Means\n",
    "print(\"Movies similar to 'Avatar' according to K-Means clustering:\")\n",
    "print(df[df[\"cluster_kmeans\"] == cluster_kmeans][\"title\"].unique())\n",
    "\n",
    "# Print out recommendations based on GMM\n",
    "print(\"\\nMovies similar to 'Avatar' according to GMM clustering:\")\n",
    "print(df[df[\"cluster_gmm\"] == cluster_gmm][\"title\"].unique())\n"
   ]
  },
  {
   "cell_type": "code",
   "execution_count": null,
   "id": "bdhF-9tmKjST",
   "metadata": {
    "id": "bdhF-9tmKjST"
   },
   "outputs": [],
   "source": []
  },
  {
   "cell_type": "markdown",
   "id": "4ecec1ff",
   "metadata": {
    "id": "4ecec1ff"
   },
   "source": [
    "**Q6.2** Are any of the two recommender systems any good? Would you use them if your real dentist asks for a movie suggestion?"
   ]
  },
  {
   "cell_type": "markdown",
   "id": "aae96b8a",
   "metadata": {
    "id": "aae96b8a"
   },
   "source": [
    "Not really - neither recommender seems reliable. They return a broad mix of movies that don't consistently match the vibe of \"Avatar.\" The clusters are based on broad statistical features rather than nuanced similarities, so I'd hesitate to use them for a real movie recommendation."
   ]
  },
  {
   "cell_type": "markdown",
   "id": "92b84753",
   "metadata": {
    "id": "92b84753"
   },
   "source": [
    "**Q6.3** How would you try making the recommender systems better?"
   ]
  },
  {
   "cell_type": "markdown",
   "id": "40d3f6dd",
   "metadata": {
    "id": "40d3f6dd"
   },
   "source": [
    "I’d improve the recommender by using more detailed features. For example, instead of clustering on PCA-reduced one-hot text, I’d extract richer movie representations (using metadata like cast, director, ratings, or even deep learning embeddings from plots and images). Additionally, combining content-based filtering with collaborative filtering could yield more personalized and nuanced recommendations."
   ]
  },
  {
   "cell_type": "markdown",
   "id": "7df2d34a",
   "metadata": {
    "id": "7df2d34a"
   },
   "source": [
    "**Q6.4** Say your dentist likes the movies you suggested and has watched a few more since you met him last. How would you incorporate this fact (recommendation based on multiple movies) into your suggestions?"
   ]
  },
  {
   "cell_type": "markdown",
   "id": "b3549de4",
   "metadata": {
    "id": "b3549de4"
   },
   "source": [
    "I would aggregate the features (e.g., the PCA embeddings or cluster memberships) of all the movies the dentist liked to build a combined \"user profile.\" Then, I'd recommend movies that are closest to this aggregated profile, rather than just basing the recommendation on a single movie. This approach, often called \"multi-item\" or \"hybrid\" recommendation, better reflects the user's overall taste."
   ]
  },
  {
   "cell_type": "markdown",
   "id": "f20b74ce",
   "metadata": {
    "id": "f20b74ce"
   },
   "source": [
    "**Q6.5** An alternative method for recommendations is to use your encoded movie-feature vectors (in this case your overview+PCA vector) in order to find out what movie may be most similar to the current one. In the case of K-Means and GMMs, \"similarity\" referred to Euclidean distance. However, in this exercise, we will use *cosine similarity*, which is another very common similarity measure, and is related to the angle between two vectors. It is defined as:\n",
    "\n",
    "$$sim(v_1, v_2)=\\frac{v_1\\cdot v_2}{||v_1||\\cdot||v_2||}$$\n",
    "\n",
    "Where $v_1$ and $v_2$ are vectors and the operator $||\\cdot||$ is the norm of the vector. The function ranges from $[-1,1]$ (where 1 means that the vectors point in the same direction).\n",
    "\n",
    "Define an appropriate function `cosine_sim`. Add a column called `cos_sim_to_avatar` in the df and print out the head of the df, sorted by the similarity. What movies would you recommend now? Is this better than the clustering methods?"
   ]
  },
  {
   "cell_type": "code",
   "execution_count": 27,
   "id": "cedf60f3",
   "metadata": {
    "id": "cedf60f3"
   },
   "outputs": [
    {
     "name": "stderr",
     "output_type": "stream",
     "text": [
      "/var/folders/k3/0zd3xff9283_dr0xzvydz7h80000gn/T/ipykernel_11101/3575449923.py:11: SettingWithCopyWarning: \n",
      "A value is trying to be set on a copy of a slice from a DataFrame.\n",
      "Try using .loc[row_indexer,col_indexer] = value instead\n",
      "\n",
      "See the caveats in the documentation: https://pandas.pydata.org/pandas-docs/stable/user_guide/indexing.html#returning-a-view-versus-a-copy\n",
      "  df[\"cos_sim_to_avatar\"] = sims\n"
     ]
    },
    {
     "data": {
      "text/html": [
       "<div>\n",
       "<style scoped>\n",
       "    .dataframe tbody tr th:only-of-type {\n",
       "        vertical-align: middle;\n",
       "    }\n",
       "\n",
       "    .dataframe tbody tr th {\n",
       "        vertical-align: top;\n",
       "    }\n",
       "\n",
       "    .dataframe thead th {\n",
       "        text-align: right;\n",
       "    }\n",
       "</style>\n",
       "<table border=\"1\" class=\"dataframe\">\n",
       "  <thead>\n",
       "    <tr style=\"text-align: right;\">\n",
       "      <th></th>\n",
       "      <th>title</th>\n",
       "      <th>overview</th>\n",
       "      <th>genres</th>\n",
       "      <th>proc_genres</th>\n",
       "      <th>one_hot_genres</th>\n",
       "      <th>proc_overview</th>\n",
       "      <th>one_hot_overview</th>\n",
       "      <th>overview_pca</th>\n",
       "      <th>cluster_kmeans</th>\n",
       "      <th>cluster_gmm</th>\n",
       "      <th>cos_sim_to_avatar</th>\n",
       "    </tr>\n",
       "  </thead>\n",
       "  <tbody>\n",
       "    <tr>\n",
       "      <th>0</th>\n",
       "      <td>Avatar</td>\n",
       "      <td>In the 22nd century, a paraplegic Marine is di...</td>\n",
       "      <td>[{\"id\": 28, \"name\": \"Action\"}, {\"id\": 12, \"nam...</td>\n",
       "      <td>Action</td>\n",
       "      <td>[1.0, 0.0, 0.0, 0.0, 0.0, 0.0, 0.0, 0.0, 0.0, ...</td>\n",
       "      <td>[in, the, 22nd, century, a, paraplegic, marine...</td>\n",
       "      <td>[0.0, 0.0, 0.0, 0.0, 0.0, 0.0, 0.0, 0.0, 0.0, ...</td>\n",
       "      <td>0.171306</td>\n",
       "      <td>2</td>\n",
       "      <td>2</td>\n",
       "      <td>1.0</td>\n",
       "    </tr>\n",
       "    <tr>\n",
       "      <th>2617</th>\n",
       "      <td>Peeples</td>\n",
       "      <td>The story follows what happens when a child ps...</td>\n",
       "      <td>[{\"id\": 35, \"name\": \"Comedy\"}]</td>\n",
       "      <td>Comedy</td>\n",
       "      <td>[0.0, 0.0, 0.0, 1.0, 0.0, 0.0, 0.0, 0.0, 0.0, ...</td>\n",
       "      <td>[the, story, follows, what, happens, when, a, ...</td>\n",
       "      <td>[0.0, 0.0, 0.0, 0.0, 0.0, 0.0, 0.0, 0.0, 0.0, ...</td>\n",
       "      <td>0.01961</td>\n",
       "      <td>2</td>\n",
       "      <td>2</td>\n",
       "      <td>1.0</td>\n",
       "    </tr>\n",
       "    <tr>\n",
       "      <th>2553</th>\n",
       "      <td>The Last House on the Left</td>\n",
       "      <td>A group of teenage girls heading into the city...</td>\n",
       "      <td>[{\"id\": 80, \"name\": \"Crime\"}, {\"id\": 53, \"name...</td>\n",
       "      <td>Thriller</td>\n",
       "      <td>[0.0, 0.0, 0.0, 0.0, 0.0, 0.0, 0.0, 0.0, 0.0, ...</td>\n",
       "      <td>[a, group, of, teenage, girls, heading, into, ...</td>\n",
       "      <td>[0.0, 0.0, 0.0, 0.0, 0.0, 0.0, 0.0, 0.0, 0.0, ...</td>\n",
       "      <td>0.050656</td>\n",
       "      <td>2</td>\n",
       "      <td>2</td>\n",
       "      <td>1.0</td>\n",
       "    </tr>\n",
       "    <tr>\n",
       "      <th>2554</th>\n",
       "      <td>The Wedding Date</td>\n",
       "      <td>With the wedding of her younger sister fast ap...</td>\n",
       "      <td>[{\"id\": 35, \"name\": \"Comedy\"}, {\"id\": 10749, \"...</td>\n",
       "      <td>Comedy</td>\n",
       "      <td>[0.0, 0.0, 0.0, 1.0, 0.0, 0.0, 0.0, 0.0, 0.0, ...</td>\n",
       "      <td>[with, the, wedding, of, her, younger, sister,...</td>\n",
       "      <td>[0.0, 0.0, 0.0, 0.0, 0.0, 0.0, 0.0, 0.0, 0.0, ...</td>\n",
       "      <td>1.601702</td>\n",
       "      <td>14</td>\n",
       "      <td>14</td>\n",
       "      <td>1.0</td>\n",
       "    </tr>\n",
       "    <tr>\n",
       "      <th>2556</th>\n",
       "      <td>The Princess Bride</td>\n",
       "      <td>In this enchantingly cracked fairy tale, the b...</td>\n",
       "      <td>[{\"id\": 12, \"name\": \"Adventure\"}, {\"id\": 10751...</td>\n",
       "      <td>Fantasy</td>\n",
       "      <td>[0.0, 0.0, 0.0, 0.0, 0.0, 0.0, 0.0, 0.0, 1.0, ...</td>\n",
       "      <td>[in, this, enchantingly, cracked, fairy, tale,...</td>\n",
       "      <td>[0.0, 0.0, 0.0, 0.0, 0.0, 0.0, 0.0, 0.0, 0.0, ...</td>\n",
       "      <td>1.37501</td>\n",
       "      <td>9</td>\n",
       "      <td>9</td>\n",
       "      <td>1.0</td>\n",
       "    </tr>\n",
       "    <tr>\n",
       "      <th>...</th>\n",
       "      <td>...</td>\n",
       "      <td>...</td>\n",
       "      <td>...</td>\n",
       "      <td>...</td>\n",
       "      <td>...</td>\n",
       "      <td>...</td>\n",
       "      <td>...</td>\n",
       "      <td>...</td>\n",
       "      <td>...</td>\n",
       "      <td>...</td>\n",
       "      <td>...</td>\n",
       "    </tr>\n",
       "    <tr>\n",
       "      <th>2658</th>\n",
       "      <td>Groundhog Day</td>\n",
       "      <td>A narcissistic TV weatherman, along with his a...</td>\n",
       "      <td>[{\"id\": 10749, \"name\": \"Romance\"}, {\"id\": 14, ...</td>\n",
       "      <td>Comedy</td>\n",
       "      <td>[0.0, 0.0, 0.0, 1.0, 0.0, 0.0, 0.0, 0.0, 0.0, ...</td>\n",
       "      <td>[a, narcissistic, tv, weatherman, along, with,...</td>\n",
       "      <td>[0.0, 0.0, 0.0, 0.0, 0.0, 0.0, 0.0, 0.0, 0.0, ...</td>\n",
       "      <td>-0.939235</td>\n",
       "      <td>0</td>\n",
       "      <td>0</td>\n",
       "      <td>-1.0</td>\n",
       "    </tr>\n",
       "    <tr>\n",
       "      <th>2662</th>\n",
       "      <td>Freedom</td>\n",
       "      <td>Two men separated by 100 years are united in t...</td>\n",
       "      <td>[{\"id\": 18, \"name\": \"Drama\"}]</td>\n",
       "      <td>Drama</td>\n",
       "      <td>[0.0, 0.0, 0.0, 0.0, 0.0, 0.0, 1.0, 0.0, 0.0, ...</td>\n",
       "      <td>[two, men, separated, by, 100, years, are, uni...</td>\n",
       "      <td>[0.0, 0.0, 0.0, 0.0, 1.0, 0.0, 0.0, 0.0, 0.0, ...</td>\n",
       "      <td>-0.076049</td>\n",
       "      <td>19</td>\n",
       "      <td>19</td>\n",
       "      <td>-1.0</td>\n",
       "    </tr>\n",
       "    <tr>\n",
       "      <th>2663</th>\n",
       "      <td>Unforgiven</td>\n",
       "      <td>William Munny is a retired, once-ruthless kill...</td>\n",
       "      <td>[{\"id\": 37, \"name\": \"Western\"}]</td>\n",
       "      <td>Western</td>\n",
       "      <td>[0.0, 0.0, 0.0, 0.0, 0.0, 0.0, 0.0, 0.0, 0.0, ...</td>\n",
       "      <td>[william, munny, is, a, retired, onceruthless,...</td>\n",
       "      <td>[0.0, 0.0, 0.0, 0.0, 0.0, 0.0, 0.0, 0.0, 0.0, ...</td>\n",
       "      <td>-0.846668</td>\n",
       "      <td>17</td>\n",
       "      <td>17</td>\n",
       "      <td>-1.0</td>\n",
       "    </tr>\n",
       "    <tr>\n",
       "      <th>2664</th>\n",
       "      <td>Manderlay</td>\n",
       "      <td>In 1933, after leaving Dogville, Grace Margare...</td>\n",
       "      <td>[{\"id\": 18, \"name\": \"Drama\"}]</td>\n",
       "      <td>Drama</td>\n",
       "      <td>[0.0, 0.0, 0.0, 0.0, 0.0, 0.0, 1.0, 0.0, 0.0, ...</td>\n",
       "      <td>[in, 1933, after, leaving, dogville, grace, ma...</td>\n",
       "      <td>[0.0, 0.0, 0.0, 0.0, 0.0, 0.0, 0.0, 0.0, 0.0, ...</td>\n",
       "      <td>-1.24297</td>\n",
       "      <td>12</td>\n",
       "      <td>12</td>\n",
       "      <td>-1.0</td>\n",
       "    </tr>\n",
       "    <tr>\n",
       "      <th>3104</th>\n",
       "      <td>Imaginary Heroes</td>\n",
       "      <td>Matt Travis is good-looking, popular, and his ...</td>\n",
       "      <td>[{\"id\": 35, \"name\": \"Comedy\"}, {\"id\": 18, \"nam...</td>\n",
       "      <td>Drama</td>\n",
       "      <td>[0.0, 0.0, 0.0, 0.0, 0.0, 0.0, 1.0, 0.0, 0.0, ...</td>\n",
       "      <td>[matt, travis, is, goodlooking, popular, and, ...</td>\n",
       "      <td>[0.0, 0.0, 0.0, 0.0, 0.0, 0.0, 0.0, 0.0, 0.0, ...</td>\n",
       "      <td>-0.265341</td>\n",
       "      <td>6</td>\n",
       "      <td>6</td>\n",
       "      <td>-1.0</td>\n",
       "    </tr>\n",
       "  </tbody>\n",
       "</table>\n",
       "<p>4707 rows × 11 columns</p>\n",
       "</div>"
      ],
      "text/plain": [
       "                           title  \\\n",
       "0                         Avatar   \n",
       "2617                     Peeples   \n",
       "2553  The Last House on the Left   \n",
       "2554            The Wedding Date   \n",
       "2556          The Princess Bride   \n",
       "...                          ...   \n",
       "2658               Groundhog Day   \n",
       "2662                     Freedom   \n",
       "2663                  Unforgiven   \n",
       "2664                   Manderlay   \n",
       "3104            Imaginary Heroes   \n",
       "\n",
       "                                               overview  \\\n",
       "0     In the 22nd century, a paraplegic Marine is di...   \n",
       "2617  The story follows what happens when a child ps...   \n",
       "2553  A group of teenage girls heading into the city...   \n",
       "2554  With the wedding of her younger sister fast ap...   \n",
       "2556  In this enchantingly cracked fairy tale, the b...   \n",
       "...                                                 ...   \n",
       "2658  A narcissistic TV weatherman, along with his a...   \n",
       "2662  Two men separated by 100 years are united in t...   \n",
       "2663  William Munny is a retired, once-ruthless kill...   \n",
       "2664  In 1933, after leaving Dogville, Grace Margare...   \n",
       "3104  Matt Travis is good-looking, popular, and his ...   \n",
       "\n",
       "                                                 genres proc_genres  \\\n",
       "0     [{\"id\": 28, \"name\": \"Action\"}, {\"id\": 12, \"nam...      Action   \n",
       "2617                     [{\"id\": 35, \"name\": \"Comedy\"}]      Comedy   \n",
       "2553  [{\"id\": 80, \"name\": \"Crime\"}, {\"id\": 53, \"name...    Thriller   \n",
       "2554  [{\"id\": 35, \"name\": \"Comedy\"}, {\"id\": 10749, \"...      Comedy   \n",
       "2556  [{\"id\": 12, \"name\": \"Adventure\"}, {\"id\": 10751...     Fantasy   \n",
       "...                                                 ...         ...   \n",
       "2658  [{\"id\": 10749, \"name\": \"Romance\"}, {\"id\": 14, ...      Comedy   \n",
       "2662                      [{\"id\": 18, \"name\": \"Drama\"}]       Drama   \n",
       "2663                    [{\"id\": 37, \"name\": \"Western\"}]     Western   \n",
       "2664                      [{\"id\": 18, \"name\": \"Drama\"}]       Drama   \n",
       "3104  [{\"id\": 35, \"name\": \"Comedy\"}, {\"id\": 18, \"nam...       Drama   \n",
       "\n",
       "                                         one_hot_genres  \\\n",
       "0     [1.0, 0.0, 0.0, 0.0, 0.0, 0.0, 0.0, 0.0, 0.0, ...   \n",
       "2617  [0.0, 0.0, 0.0, 1.0, 0.0, 0.0, 0.0, 0.0, 0.0, ...   \n",
       "2553  [0.0, 0.0, 0.0, 0.0, 0.0, 0.0, 0.0, 0.0, 0.0, ...   \n",
       "2554  [0.0, 0.0, 0.0, 1.0, 0.0, 0.0, 0.0, 0.0, 0.0, ...   \n",
       "2556  [0.0, 0.0, 0.0, 0.0, 0.0, 0.0, 0.0, 0.0, 1.0, ...   \n",
       "...                                                 ...   \n",
       "2658  [0.0, 0.0, 0.0, 1.0, 0.0, 0.0, 0.0, 0.0, 0.0, ...   \n",
       "2662  [0.0, 0.0, 0.0, 0.0, 0.0, 0.0, 1.0, 0.0, 0.0, ...   \n",
       "2663  [0.0, 0.0, 0.0, 0.0, 0.0, 0.0, 0.0, 0.0, 0.0, ...   \n",
       "2664  [0.0, 0.0, 0.0, 0.0, 0.0, 0.0, 1.0, 0.0, 0.0, ...   \n",
       "3104  [0.0, 0.0, 0.0, 0.0, 0.0, 0.0, 1.0, 0.0, 0.0, ...   \n",
       "\n",
       "                                          proc_overview  \\\n",
       "0     [in, the, 22nd, century, a, paraplegic, marine...   \n",
       "2617  [the, story, follows, what, happens, when, a, ...   \n",
       "2553  [a, group, of, teenage, girls, heading, into, ...   \n",
       "2554  [with, the, wedding, of, her, younger, sister,...   \n",
       "2556  [in, this, enchantingly, cracked, fairy, tale,...   \n",
       "...                                                 ...   \n",
       "2658  [a, narcissistic, tv, weatherman, along, with,...   \n",
       "2662  [two, men, separated, by, 100, years, are, uni...   \n",
       "2663  [william, munny, is, a, retired, onceruthless,...   \n",
       "2664  [in, 1933, after, leaving, dogville, grace, ma...   \n",
       "3104  [matt, travis, is, goodlooking, popular, and, ...   \n",
       "\n",
       "                                       one_hot_overview overview_pca  \\\n",
       "0     [0.0, 0.0, 0.0, 0.0, 0.0, 0.0, 0.0, 0.0, 0.0, ...     0.171306   \n",
       "2617  [0.0, 0.0, 0.0, 0.0, 0.0, 0.0, 0.0, 0.0, 0.0, ...      0.01961   \n",
       "2553  [0.0, 0.0, 0.0, 0.0, 0.0, 0.0, 0.0, 0.0, 0.0, ...     0.050656   \n",
       "2554  [0.0, 0.0, 0.0, 0.0, 0.0, 0.0, 0.0, 0.0, 0.0, ...     1.601702   \n",
       "2556  [0.0, 0.0, 0.0, 0.0, 0.0, 0.0, 0.0, 0.0, 0.0, ...      1.37501   \n",
       "...                                                 ...          ...   \n",
       "2658  [0.0, 0.0, 0.0, 0.0, 0.0, 0.0, 0.0, 0.0, 0.0, ...    -0.939235   \n",
       "2662  [0.0, 0.0, 0.0, 0.0, 1.0, 0.0, 0.0, 0.0, 0.0, ...    -0.076049   \n",
       "2663  [0.0, 0.0, 0.0, 0.0, 0.0, 0.0, 0.0, 0.0, 0.0, ...    -0.846668   \n",
       "2664  [0.0, 0.0, 0.0, 0.0, 0.0, 0.0, 0.0, 0.0, 0.0, ...     -1.24297   \n",
       "3104  [0.0, 0.0, 0.0, 0.0, 0.0, 0.0, 0.0, 0.0, 0.0, ...    -0.265341   \n",
       "\n",
       "      cluster_kmeans  cluster_gmm  cos_sim_to_avatar  \n",
       "0                  2            2                1.0  \n",
       "2617               2            2                1.0  \n",
       "2553               2            2                1.0  \n",
       "2554              14           14                1.0  \n",
       "2556               9            9                1.0  \n",
       "...              ...          ...                ...  \n",
       "2658               0            0               -1.0  \n",
       "2662              19           19               -1.0  \n",
       "2663              17           17               -1.0  \n",
       "2664              12           12               -1.0  \n",
       "3104               6            6               -1.0  \n",
       "\n",
       "[4707 rows x 11 columns]"
      ]
     },
     "execution_count": 27,
     "metadata": {},
     "output_type": "execute_result"
    }
   ],
   "source": [
    "def cosine_sim(v1, v2):\n",
    "    return np.dot(v1, v2) / (np.linalg.norm(v1) * np.linalg.norm(v2))\n",
    "\n",
    "# get overview_pca encoding of previously watched film\n",
    "prev_watch_enc = df.loc[df[\"title\"] == \"Avatar\", \"overview_pca\"].iloc[0]\n",
    "\n",
    "sims = [] # set up place to store similarities\n",
    "for i, row in df.iterrows():\n",
    "    sims.append(cosine_sim(row[\"overview_pca\"], prev_watch_enc))\n",
    "\n",
    "df[\"cos_sim_to_avatar\"] = sims\n",
    "df = df.sort_values(\"cos_sim_to_avatar\", ascending=False)\n",
    "df # print to verify"
   ]
  },
  {
   "cell_type": "markdown",
   "id": "40391e82",
   "metadata": {
    "id": "40391e82"
   },
   "source": [
    "Cosine similarity directly compares the semantic content of movie overviews. For instance, by using \"Avatar\" as a reference, we get recommendations based on how closely other movies' overview features align. This method offers more targeted suggestions than clustering, which groups movies into broader, less nuanced categories."
   ]
  },
  {
   "cell_type": "markdown",
   "id": "a7b1e343",
   "metadata": {
    "id": "a7b1e343"
   },
   "source": [
    "# Q7 Unsupervised Learning as a Tool\n",
    "\n",
    "At the end of this brief forey into natural language processing, we will end with an interesting task: can a machine predict the genre of a movie based purely on the first 10 words of its overview?\n",
    "\n",
    "First, the following cell shuffles the dataset and splits it into a training and test set. The random seed and random state ensure that the train and test samples are the same for you all the time, and *probably* your classmates too. You can verify this by printing out the dataframes and checking it for yourself."
   ]
  },
  {
   "cell_type": "code",
   "execution_count": 28,
   "id": "f5b1bde1",
   "metadata": {
    "id": "f5b1bde1"
   },
   "outputs": [
    {
     "name": "stdout",
     "output_type": "stream",
     "text": [
      "3765 942\n"
     ]
    }
   ],
   "source": [
    "np.random.seed(0)\n",
    "n_train = int(0.8*len(df))\n",
    "df_shuffle = df.sample(frac=1, random_state=42).reset_index(drop=True)\n",
    "df_train = df_shuffle[:n_train].reset_index(drop=True)\n",
    "df_test = df_shuffle[n_train:].reset_index(drop=True)\n",
    "print(len(df_train), len(df_test))"
   ]
  },
  {
   "cell_type": "markdown",
   "id": "92f9d534",
   "metadata": {
    "id": "92f9d534"
   },
   "source": [
    "## Train, test, evaluate\n",
    "\n",
    "Using a supervised learning method of your choice, try predicting the genre of a movie from the overview. The way you preprocess your data is up to you, and you can take inspiration from the above exercises (e.g. PCA on the one-hot encodings as input, one-hot label encodings as output). There are a number of hyperparameters you can choose depending on your selected method (number of words in your overview, number of dimensions, number of clusters, hyperparameters of your supervised model...), thus, make sure to perform hyperparameter optimization in some way (grid-search, fine-tuning, etc). Once you are happy with how your model is performing, **print out the train_score (accuracy$\\in[0,1]$), test_score (accuracy$\\in[0,1]$), mean training time (in seconds), and mean inference time (in seconds) of your model**.\n",
    "\n",
    "If you are already excited about neural networks, you may also choose to use that as your supervised method. The easiest way to do it is with sklearn's `MLPClassifier` module. The main hyperparameter you would need to tune is the architecture of your model -- how many hidden layers, and how large is each one. For this task, in order to get best performance, you do not necessarily need an MLP (multi-layer perceptron) but feel free to experiment.\n",
    "\n",
    "*Hint: the `train_and_eval` function from the last assignment should be of great help here*"
   ]
  },
  {
   "cell_type": "code",
   "execution_count": 29,
   "id": "e9ac379d",
   "metadata": {
    "id": "e9ac379d"
   },
   "outputs": [
    {
     "name": "stderr",
     "output_type": "stream",
     "text": [
      "/Library/Frameworks/Python.framework/Versions/3.11/lib/python3.11/site-packages/sklearn/model_selection/_split.py:776: UserWarning: The least populated class in y has only 2 members, which is less than n_splits=5.\n",
      "  warnings.warn(\n"
     ]
    },
    {
     "name": "stdout",
     "output_type": "stream",
     "text": [
      "Train score: 1.0\n",
      "Test score:  0.20488322717622082\n",
      "Mean training time (s): 7.5328450202941895\n",
      "Mean inference time (s): 0.0026924957986921073\n"
     ]
    }
   ],
   "source": [
    "import time\n",
    "import timeit\n",
    "from sklearn.feature_extraction.text import TfidfVectorizer\n",
    "from sklearn.neural_network import MLPClassifier\n",
    "from sklearn.model_selection import GridSearchCV\n",
    "from sklearn.metrics import accuracy_score\n",
    "\n",
    "# Data preparation\n",
    "\n",
    "# use the \"first_10\" column which contains the first 10 words of the processed overview.\n",
    "# If not already defined, create \"first_10\" as follows:\n",
    "df_train[\"first_10\"] = df_train[\"proc_overview\"].apply(lambda x: \" \".join(x[:10]))\n",
    "df_test[\"first_10\"]  = df_test[\"proc_overview\"].apply(lambda x: \" \".join(x[:10]))\n",
    "\n",
    "# Our label will be the processed genre, stored in \"proc_genres\"\n",
    "y_train = df_train[\"proc_genres\"]\n",
    "y_test  = df_test[\"proc_genres\"]\n",
    "\n",
    "# Vectorize the text using TF-IDF\n",
    "vectorizer = TfidfVectorizer()\n",
    "X_train = vectorizer.fit_transform(df_train[\"first_10\"])\n",
    "X_test  = vectorizer.transform(df_test[\"first_10\"])\n",
    "\n",
    "# Hyperparameter tuning with GridSearchCV on MLPClassifier\n",
    "\n",
    "param_grid = {\n",
    "    'hidden_layer_sizes': [(50,), (100,), (50,50)],\n",
    "    'activation': ['relu', 'tanh']\n",
    "}\n",
    "\n",
    "mlp = MLPClassifier(max_iter=1000, random_state=42)\n",
    "grid_search = GridSearchCV(mlp, param_grid, cv=5, scoring='accuracy')\n",
    "grid_search.fit(X_train, y_train)\n",
    "\n",
    "# Get the best model\n",
    "best_model = grid_search.best_estimator_\n",
    "\n",
    "\n",
    "# Measure training time\n",
    "start_train = time.time()\n",
    "best_model.fit(X_train, y_train)\n",
    "train_time = time.time() - start_train\n",
    "\n",
    "\n",
    "# Evaluate the model\n",
    "train_score = best_model.score(X_train, y_train)\n",
    "test_score  = best_model.score(X_test, y_test)\n",
    "\n",
    "# Measure mean inference time (average over 10 runs)\n",
    "inference_time = timeit.timeit(lambda: best_model.predict(X_test), number=10) / 10\n",
    "\n",
    "# Print results\n",
    "print(\"Train score:\", train_score)\n",
    "print(\"Test score: \", test_score)\n",
    "print(\"Mean training time (s):\", train_time)\n",
    "print(\"Mean inference time (s):\", inference_time)"
   ]
  },
  {
   "cell_type": "markdown",
   "id": "5976997e",
   "metadata": {
    "id": "5976997e"
   },
   "source": [
    "Write a paragraph of ~150 words about how you went about selecting and tuning your model, and how you may want to make improvements to your model if you were to continue working on this. Plots are very good but not strictly necessary (i.e. try to add plots if you can)."
   ]
  },
  {
   "cell_type": "code",
   "execution_count": 30,
   "id": "daf6f7da",
   "metadata": {},
   "outputs": [
    {
     "data": {
      "image/png": "[encoded data removed]",
      "text/plain": [
       "<Figure size 800x600 with 2 Axes>"
      ]
     },
     "metadata": {},
     "output_type": "display_data"
    },
    {
     "data": {
      "image/png": "[encoded data removed]",
      "text/plain": [
       "<Figure size 600x400 with 1 Axes>"
      ]
     },
     "metadata": {},
     "output_type": "display_data"
    }
   ],
   "source": [
    "import seaborn as sns\n",
    "\n",
    "# Create a pivot table from grid search results to plot the mean test scores.\n",
    "cv_results = pd.DataFrame(grid_search.cv_results_)\n",
    "pivot_table = cv_results.pivot(index='param_activation', columns='param_hidden_layer_sizes', values='mean_test_score')\n",
    "\n",
    "# Heatmap of CV Mean Test Accuracy across hyperparameters\n",
    "plt.figure(figsize=(8, 6))\n",
    "sns.heatmap(pivot_table, annot=True, fmt=\".3f\", cmap=\"YlGnBu\")\n",
    "plt.title(\"Grid Search CV Mean Test Accuracy\")\n",
    "plt.xlabel(\"Hidden Layer Sizes\")\n",
    "plt.ylabel(\"Activation\")\n",
    "plt.show()\n",
    "\n",
    "# Plot a bar chart comparing the best model's training and test accuracy.\n",
    "best_train_score = best_model.score(X_train, y_train)\n",
    "best_test_score = best_model.score(X_test, y_test)\n",
    "\n",
    "plt.figure(figsize=(6, 4))\n",
    "plt.bar(['Train Accuracy', 'Test Accuracy'], [best_train_score, best_test_score], color=['blue', 'orange'])\n",
    "plt.ylim(0, 1)\n",
    "plt.title(\"Best Model Accuracy\")\n",
    "plt.ylabel(\"Accuracy\")\n",
    "plt.show()"
   ]
  },
  {
   "cell_type": "markdown",
   "id": "54186a60",
   "metadata": {
    "id": "54186a60"
   },
   "source": [
    "I trained an MLPClassifier on TF-IDF features extracted from the first 10 words of each movie’s overview, using GridSearchCV to explore different hidden layer sizes and activation functions. The heatmap of cross-validation scores illustrates how each hyperparameter combination affected performance: certain settings (like a single 50-neuron layer with the “relu” activation) achieved the highest mean test accuracy of about 22%. However, even with the best combination, the model overfits significantly, reaching 100% training accuracy but only about 20% on the test set. The bar plot comparing training and test accuracy underscores this gap, revealing a classic case of overfitting. These visualizations confirm that while adjusting hyperparameters can help slightly, the model still struggles to generalize when relying on just the first 10 words of the overview. To improve, I would consider using more sophisticated text features (e.g., word embeddings or transformer-based encodings), applying regularization, or capturing additional context from longer text segments."
   ]
  },
  {
   "cell_type": "markdown",
   "id": "14b50007",
   "metadata": {
    "id": "14b50007"
   },
   "source": [
    "# BONUS\n",
    "\n",
    "If you are happy with your score and wish to see how well it is doing with respect to other people (a sort of mini-competition), fill out the following form with the train_score (accuracy$\\in[0,1]$), test_score (accuracy$\\in[0,1]$), mean training time (in seconds), and mean inference time (in seconds) of your model, as well as what method you use. You can submit as many times before the deadline as you wish. Your final results will be correlated with your submission in order to validate your results (if we cannot validate them, they will be immediately disqualified).\n",
    "\n",
    "[FORM HERE](https://forms.gle/rXRtXScABH5oDLRWA)"
   ]
  },
  {
   "cell_type": "markdown",
   "id": "2d041a29",
   "metadata": {},
   "source": []
  }
 ],
 "metadata": {
  "colab": {
   "provenance": []
  },
  "kernelspec": {
   "display_name": "Python 3",
   "language": "python",
   "name": "python3"
  },
  "language_info": {
   "codemirror_mode": {
    "name": "ipython",
    "version": 3
   },
   "file_extension": ".py",
   "mimetype": "text/x-python",
   "name": "python",
   "nbconvert_exporter": "python",
   "pygments_lexer": "ipython3",
   "version": "3.11.5"
  }
 },
 "nbformat": 4,
 "nbformat_minor": 5
}
